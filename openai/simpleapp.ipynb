{
 "cells": [
  {
   "cell_type": "markdown",
   "id": "c7742aae",
   "metadata": {},
   "source": [
    "#### Simple GenAI APP using Langchain"
   ]
  },
  {
   "cell_type": "code",
   "execution_count": 45,
   "id": "c4c34ae0",
   "metadata": {},
   "outputs": [],
   "source": [
    "import os\n",
    "from dotenv import load_dotenv\n",
    "load_dotenv()\n",
    "\n",
    "os.environ['OPENAI_API_KEY']=os.getenv(\"OPENAI_API_KEY\")\n",
    "## Langsmith Tracking\n",
    "os.environ[\"LANGCHAIN_API_KEY\"]=os.getenv(\"LANGCHAIN_API_KEY\")\n",
    "os.environ[\"LANGCHAIN_TRACING_V2\"]=\"true\"\n",
    "os.environ[\"LANGCHAIN_PROJECT\"]=os.getenv(\"LANGCHAIN_PROJECT\")"
   ]
  },
  {
   "cell_type": "code",
   "execution_count": 46,
   "id": "cd96a2d4",
   "metadata": {},
   "outputs": [
    {
     "data": {
      "text/plain": [
       "<langchain_community.document_loaders.web_base.WebBaseLoader at 0x132759810>"
      ]
     },
     "execution_count": 46,
     "metadata": {},
     "output_type": "execute_result"
    }
   ],
   "source": [
    "#data ingestion --from website we need to scrape the data\n",
    "from langchain_community.document_loaders import WebBaseLoader\n",
    "\n",
    "loader=WebBaseLoader(\"https://www.langchain.com/pricing-langsmith?_gl=1*91275m*_gcl_au*NDYzNjI2NTkyLjE3NTExMzk1MTA.*_ga*NzM2NjExNTExLjE3NTEwNTg2NzI.*_ga_47WX3HKKY2*czE3NTExMzk1MTAkbzQkZzEkdDE3NTExMzk1NDQkajI2JGwwJGgw\")\n",
    "loader"
   ]
  },
  {
   "cell_type": "code",
   "execution_count": 47,
   "id": "0dbf2113",
   "metadata": {},
   "outputs": [
    {
     "data": {
      "text/plain": [
       "[Document(metadata={'source': 'https://www.langchain.com/pricing-langsmith?_gl=1*91275m*_gcl_au*NDYzNjI2NTkyLjE3NTExMzk1MTA.*_ga*NzM2NjExNTExLjE3NTEwNTg2NzI.*_ga_47WX3HKKY2*czE3NTExMzk1MTAkbzQkZzEkdDE3NTExMzk1NDQkajI2JGwwJGgw', 'title': 'Plans and Pricing - LangChain', 'description': \"Pricing for LangChain products for teams of any size. Choose the plan that suits your needs, whether you're an individual developer or enterprise.\", 'language': 'en'}, page_content='Plans and Pricing - LangChain\\n\\n\\n\\n\\n\\n\\n\\n\\n\\n\\n\\n\\n\\n\\n\\n\\n\\n\\n\\n\\n\\n\\nProducts\\n\\nFrameworksLangGraphLangChainPlatformsLangSmithLangGraph PlatformResources\\n\\nResources HubBlogCustomer StoriesLangChain AcademyCommunityExpertsChangelogDocs\\n\\nPythonLangGraphLangSmithLangChainJavaScriptLangGraphLangSmithLangChainCompany\\n\\nAboutCareersPricingGet a demoSign upPricing plans for teams of\\xa0any\\xa0sizeGet all the LangChain products -- pay for what you useDeveloperFor hobbyist projects by solo devs.Starting at$0 / monththen pay as you goFirst 5k traces included, starting at $0.50 per 1k base \\xa0traces thereafter.\\n\\n\\n\\nStart for freeGet started with:\\n\\nTracing to debug agent execution\\n\\nContinuous evals, both online and offline\\n\\nPrompt Hub, Playground, and Canvas for auto improving prompts\\n\\nAnnotation queues for human feedback\\n\\nMonitoring and alertingPlusBatteries-included tooling for building reliable agents fast.Starting at$39 / monththen pay as you goFirst 10k traces included, starting at $0.50 per 1k base \\xa0traces thereafter.\\n\\n\\n\\nSign upEverything in the Developer plan, and:\\n\\nUp to 10 seats\\n\\nHigher rate limits for LangSmith traces\\n\\n1 dev-sized LangGraph Platform deployment included – the fastest way to ship, scale, and manage agents. Ability to add more agent deployments. \\n\\nEmail supportEnterpriseFor teams with advanced deployment, security, and support needs.\\xa0CustomGet a demoEverything in the Plus plan, and:\\n\\nAlternative LangSmith & LangGraph Platform deployment options, including hybrid and self-hosted so data doesn’t leave your VPC\\n\\nCustom SSO\\xa0and RBAC\\n\\nAcccess to deployed engineering team\\n\\nSupport SLA\\n\\nTeam trainings.& architectural guidanceLangSmith for Startups and Education.  Seed stage startups and educational institutions, reach out for starter pricing and get shipping today.Reach out to learn about startup pricing for a period of time.Startups\\n\\n\\nEducation\\n\\n\\nEnquire about startup pricing\\n\\n\\nLangSmith for Startups and EducationSeed stage startups and educational institutions, reach out for starter pricing and get shipping today.Startups\\n\\n\\nEducation\\n\\n\\nCompare plansFeaturesDeveloperPlusEnterpriseTeamUsersMaximum of 1 seat(free)Up to 10 seats$39\\xa0per\\xa0seat/monthCustomWorkspaces\\u200d(A workspace separates and restricts access across teams)N/AUp to 3 WorkspacesUp to 10 WorkspacesLangSmith:\\xa0For unified observability &\\xa0evalsTracing\\n\\n\\n\\n\\n\\n\\n\\n\\nMonitoring\\n\\n\\n\\n\\n\\n\\n\\n\\nOnline and Offline Evals\\n\\n\\n\\n\\n\\n\\n\\n\\nDataset collection\\n\\n\\n\\n\\n\\n\\n\\n\\nAnnotation queue (human feedback)\\n\\n\\n\\n\\n\\n\\n\\n\\nPrompt Hub and Playground\\n\\n\\n\\n\\n\\n\\n\\n\\nBulk data export\\n\\n\\n\\n\\n\\n\\n\\nTrace volumePrices for traces vary depending on the data retention period you\\'ve set. \\n\\n\\n\\n 5k base traces / mo included Pay as you go thereafter:\\xa0\\u2028•\\xa0$0.50 per 1k base traces • $4.50 per 1k extended traces 10k base traces / mo included Pay as you go thereafter:\\xa0\\u2028•\\xa0$0.50 per 1k base traces • $4.50 per 1k extended tracesCustomBase trace retentionPrices for traces vary depending on the data retention period you\\'ve set. \\n\\n\\n\\n14 days14 daysCustomExtended trace retentionPrices for traces vary depending on the data retention period you\\'ve set. \\n\\n\\n\\n400 days400 daysCustomMax ingested events / hour50k / 250k (with payment on file) 500kCustomTotal trace size stored / hour500MB / 2.5GB (with payment on file)5GBCustomDeployment Options for LangSmithDeployment type(s)Cloud SaaSCloud SaaSCloud SaaS, Hybrid, or Self-HostedInfraFully managed by LangChainFully managed by LangChainCloud SaaS: Fully managed by LangChainHybrid: SaaS control plane, Self-hosted data plane\\xa0Self-Hosted: Fully self-managedData locationLangChain\\'s Cloud (US\\xa0or EU)LangChain\\'s Cloud (US or EU)Cloud SaaS:\\xa0LangChain\\'s Cloud (US\\xa0or EU)Hybrid:\\xa0Your VPCSelf-Hosted:\\xa0Your VPCLangGraph Platform:\\xa0Infrastructure to deploy &\\xa0manage long-running, stateful agentsLangGraph Studio\\n\\n\\n\\n\\n\\n\\n\\n\\nExpose agent as MCP server\\n\\n\\n\\n\\n\\n\\n\\n\\nReal-time streaming of intermediary steps and final output\\n\\n\\n\\n\\n\\n\\n\\n\\n1-Click Deploy\\n\\n\\n\\n\\n\\n\\n\\nHorizontally-scalable service for production-sized deployments\\n\\n\\n\\n\\n\\n\\n\\nAssistants API\\n\\n\\n\\n\\n\\n\\n\\n30+\\xa0API\\xa0endpoints including state and memory\\n\\n\\n\\n\\n\\n\\n\\nCrons scheduling\\n\\n\\n\\n\\n\\n\\n\\nAuthentication &\\xa0authorization for LangGraph APIs\\n\\n\\n\\n\\n\\n\\n\\nDeployment for LangGraph PlatformDeployment type(s)Self-Hosted LiteCloud SaaSCloud SaaS, Hybrid, or Self-HostedNode execution costFirst 100k nodes / mo freeContact sales for higher volumes1 free Dev deployment with node executions included.For additional deployments:\\xa0$0.001/node executionCustomUptime costN/A$0.0007 / min per Development deployment$0.0036 / min per Production deploymentCustomInfraFully self-managedFully managed by LangChainCloud SaaS: Fully managed by LangChainHybrid: SaaS control plane, Self-hosted data plane\\xa0Self-Hosted: Fully self-managedData locationYour VPCLangChain\\'s Cloud (US or EU)Cloud SaaS:\\xa0LangChain\\'s Cloud (US\\xa0or EU)Hybrid:\\xa0Your VPCSelf-Hosted:\\xa0Your VPCSecurity ControlsSSO\\n\\nGoogle, GitHubCustom SSORole-Based Access Control\\n\\n\\n\\n\\n\\n\\nOrganization Roles (User and Admin)\\n\\n\\n\\n\\n\\n\\n\\nSupportCommunity Slack\\n\\n\\n\\n\\n\\n\\n\\n\\nEmail Support\\n\\n\\n\\n\\n\\n\\n\\nTeam trainings\\n\\n\\n\\n\\n\\n\\n Architectural guidance for your applications\\n\\n\\n\\n\\n\\n\\nAccess to deployed engineers\\n\\n\\n\\n\\n\\n\\nSLA\\n\\n\\n\\n\\n\\n\\nProcurementBillingMonthly, self-serveMonthly, self-serveAnnual invoiceCustom Terms\\n\\n\\n\\n\\n\\n\\nInfosec Review\\n\\n\\n\\n\\n\\n\\nFAQsGeneral QuestionsWhich plan is right for me?\\n\\nOur Developer plan is a great choice for personal projects. You will have 1 free seat with access to LangSmith (5k base traces/month included).\\xa0\\xa0\\u200dThe Plus plan is for teams that want to self-serve with moderate usage and collaboration needs. You can purchase up to 10 seats with access to LangSmith (10k base traces/month included). You will be able to ship agents with our managed LangGraph Platform Cloud service, with 1 free dev-sized deployment included.\\xa0\\u200dThe Enterprise plan is for teams that need more advanced administration, security, support, or deployment options. Contact our sales team to learn more.Do you offer a plan for startups?\\n\\nYes! We offer a Startup Plan for LangSmith, designed for early-stage companies building agentic applications. You’ll get discounted rates and generous free trace allotments to build with confidence from day one.\\u200d\\u200dApply here to get started with startup pricing. Customers can stay on the Startup Plan for 2 years before graduating to the Plus Plan.When will I be billed?\\n\\nFor the Developer or Plus Plan, seats are billed monthly on the 1st or pro-rated if added mid-month (no credit for removed seats); traces are billed monthly in arrears for your usage. Enterprise plans are invoiced annually upfront.Will you train on the data that I send to LangSmith or LangGraph Platform?\\n\\nWe will not train on your data, and you own all rights to your data. See our Terms of Service for more information.LangSmith QuestionsWhat is a trace? Can it contain multiple events?\\n\\nA trace represents a single execution of your application—whether it’s an agent, evaluator, or playground session. It can include many individual steps, such as LLM calls and other tracked events. Here\\'s an example of a single trace.What is the difference between a base trace and an extended trace?\\n\\nBase traces have a shorter retention period of 14 days and cost $0.50 per 1k traces. Extended traces have a longer retention period of 400 days and cost $5.00 per 1k traces. You can \"upgrade\" base traces to extended traces at $4.50 per 1k traces.Why might I want to upgrade a base trace to an extended trace?\\n\\nBase traces are short-lived (14-day retention) and ideal for quick debugging or ad-hoc analysis. They’re priced for volume and short-term utility.\\u200dExtended traces, on the other hand, are retained for 400 days and often include valuable feedback—whether from users, evaluators, or human labelers. This feedback makes them essential for ongoing improvement and model tuning (higher utility), which comes with a higher price point.\\u200dLangSmith lets you choose the right retention for each trace, helping you balance cost and value. Why would I upgrade a base trace to an extended trace?\\n\\nBase traces are short-lived (14-day retention) and ideal for quick debugging or ad-hoc analysis. They’re priced for volume and short-term utility.\\u200dExtended traces, on the other hand, are retained for 400 days and often include valuable feedback—whether from users, evaluators, or human labelers. This feedback makes them essential for ongoing improvement and model tuning (higher utility), which comes with a higher price point.\\u200dLangSmith lets you choose the right retention for each trace, helping you balance cost and value. I’ve exhausted my free trace allocation. What can I do?\\n\\nIf you’ve used up your free traces, you can input your credit card details on the Developer or Plus plans to continue sending traces to LangSmith. If you’ve hit the performance usage limits on your tier, you can upgrade to a higher plan to get better limits, or reach out to support@langchain.dev with questions.LangGraph Platform QuestionsDoes LangGraph Platform include any free deployments?\\n\\nPlus plans include 1 free dev-sized deployment. If you spin up additional dev-sized or production-sized deployments, you’ll be charged by usage (nodes executed and uptime).For my free Dev deployment for LangGraph Platform, is there a cap on the number of nodes executed?\\n\\nIf you’re on the Plus plan, you get 1 free dev-sized deployment – all usage in this deployment will be free no matter how many node executions are run.How do you define nodes executed?\\n\\nNodes Executed is the aggregate number of nodes in a LangGraph application that are called and completed successfully during an invocation of the application. If a node in the graph is not called during execution or ends in an error state, these nodes will not be counted. If a node is called and completes successfully multiple times, each occurrence will be counted.What does uptime mean for LangGraph Platform usage?\\n\\nUptime is the duration your deployment’s database is live and persisting state. Uptime will be tracked as soon as your deployment is live and ends when you shut it down. Dev deployments are typically short-lived (used during iteration, then deleted) – whereas Production deployments stay live and are updated via revisions (rather than being deleted).\\xa0When should I use a dev-sized deployment vs. a production-sized deployment?\\n\\nWe recommend using the production-sized deployment for any customer-facing agent. Dev-sized deployments are intended for testing and do not support horizontal scaling, backups, or performance optimizations needed in production.Ready to start shipping \\u2028reliable agents faster?Get started with tools from the LangChain product suite for every step of the agent development lifecycle.Get a demoSign up for freeProductsLangChainLangSmithLangGraphAgentsEvaluationRetrievalResourcesPython DocsJS/TS DocsGitHubIntegrationsChangelogCommunityLangSmith Trust PortalCompanyAboutCareersBlogTwitterLinkedInYouTubeMarketing AssetsSign up for our newsletter to stay up to dateThank you! Your submission has been received!Oops! Something went wrong while submitting the form.All systems operationalPrivacy PolicyTerms of Service\\n\\n\\n\\n\\n\\n\\n\\n')]"
      ]
     },
     "execution_count": 47,
     "metadata": {},
     "output_type": "execute_result"
    }
   ],
   "source": [
    "docs=loader.load()\n",
    "docs"
   ]
  },
  {
   "cell_type": "code",
   "execution_count": 48,
   "id": "17eb54a5",
   "metadata": {},
   "outputs": [],
   "source": [
    "### Load Data--> Docs-->Divide our Docuemnts into chunks documents\n",
    "# text-->vectors-->Vector Embeddings\n",
    "# --->Vector Store DB\n",
    "\n",
    "\n",
    "from langchain_text_splitters import RecursiveCharacterTextSplitter\n",
    "\n",
    "text_splitter=RecursiveCharacterTextSplitter(chunk_size=500,chunk_overlap=20)\n",
    "documents=text_splitter.split_documents(docs)\n"
   ]
  },
  {
   "cell_type": "code",
   "execution_count": 49,
   "id": "cb609328",
   "metadata": {},
   "outputs": [
    {
     "data": {
      "text/plain": [
       "[Document(metadata={'source': 'https://www.langchain.com/pricing-langsmith?_gl=1*91275m*_gcl_au*NDYzNjI2NTkyLjE3NTExMzk1MTA.*_ga*NzM2NjExNTExLjE3NTEwNTg2NzI.*_ga_47WX3HKKY2*czE3NTExMzk1MTAkbzQkZzEkdDE3NTExMzk1NDQkajI2JGwwJGgw', 'title': 'Plans and Pricing - LangChain', 'description': \"Pricing for LangChain products for teams of any size. Choose the plan that suits your needs, whether you're an individual developer or enterprise.\", 'language': 'en'}, page_content='Plans and Pricing - LangChain\\n\\n\\n\\n\\n\\n\\n\\n\\n\\n\\n\\n\\n\\n\\n\\n\\n\\n\\n\\n\\n\\n\\nProducts\\n\\nFrameworksLangGraphLangChainPlatformsLangSmithLangGraph PlatformResources\\n\\nResources HubBlogCustomer StoriesLangChain AcademyCommunityExpertsChangelogDocs\\n\\nPythonLangGraphLangSmithLangChainJavaScriptLangGraphLangSmithLangChainCompany'),\n",
       " Document(metadata={'source': 'https://www.langchain.com/pricing-langsmith?_gl=1*91275m*_gcl_au*NDYzNjI2NTkyLjE3NTExMzk1MTA.*_ga*NzM2NjExNTExLjE3NTEwNTg2NzI.*_ga_47WX3HKKY2*czE3NTExMzk1MTAkbzQkZzEkdDE3NTExMzk1NDQkajI2JGwwJGgw', 'title': 'Plans and Pricing - LangChain', 'description': \"Pricing for LangChain products for teams of any size. Choose the plan that suits your needs, whether you're an individual developer or enterprise.\", 'language': 'en'}, page_content='AboutCareersPricingGet a demoSign upPricing plans for teams of\\xa0any\\xa0sizeGet all the LangChain products -- pay for what you useDeveloperFor hobbyist projects by solo devs.Starting at$0 / monththen pay as you goFirst 5k traces included, starting at $0.50 per 1k base \\xa0traces thereafter.\\n\\n\\n\\nStart for freeGet started with:\\n\\nTracing to debug agent execution\\n\\nContinuous evals, both online and offline\\n\\nPrompt Hub, Playground, and Canvas for auto improving prompts\\n\\nAnnotation queues for human feedback'),\n",
       " Document(metadata={'source': 'https://www.langchain.com/pricing-langsmith?_gl=1*91275m*_gcl_au*NDYzNjI2NTkyLjE3NTExMzk1MTA.*_ga*NzM2NjExNTExLjE3NTEwNTg2NzI.*_ga_47WX3HKKY2*czE3NTExMzk1MTAkbzQkZzEkdDE3NTExMzk1NDQkajI2JGwwJGgw', 'title': 'Plans and Pricing - LangChain', 'description': \"Pricing for LangChain products for teams of any size. Choose the plan that suits your needs, whether you're an individual developer or enterprise.\", 'language': 'en'}, page_content='Monitoring and alertingPlusBatteries-included tooling for building reliable agents fast.Starting at$39 / monththen pay as you goFirst 10k traces included, starting at $0.50 per 1k base \\xa0traces thereafter.\\n\\n\\n\\nSign upEverything in the Developer plan, and:\\n\\nUp to 10 seats\\n\\nHigher rate limits for LangSmith traces\\n\\n1 dev-sized LangGraph Platform deployment included – the fastest way to ship, scale, and manage agents. Ability to add more agent deployments.'),\n",
       " Document(metadata={'source': 'https://www.langchain.com/pricing-langsmith?_gl=1*91275m*_gcl_au*NDYzNjI2NTkyLjE3NTExMzk1MTA.*_ga*NzM2NjExNTExLjE3NTEwNTg2NzI.*_ga_47WX3HKKY2*czE3NTExMzk1MTAkbzQkZzEkdDE3NTExMzk1NDQkajI2JGwwJGgw', 'title': 'Plans and Pricing - LangChain', 'description': \"Pricing for LangChain products for teams of any size. Choose the plan that suits your needs, whether you're an individual developer or enterprise.\", 'language': 'en'}, page_content='Email supportEnterpriseFor teams with advanced deployment, security, and support needs.\\xa0CustomGet a demoEverything in the Plus plan, and:\\n\\nAlternative LangSmith & LangGraph Platform deployment options, including hybrid and self-hosted so data doesn’t leave your VPC\\n\\nCustom SSO\\xa0and RBAC\\n\\nAcccess to deployed engineering team\\n\\nSupport SLA'),\n",
       " Document(metadata={'source': 'https://www.langchain.com/pricing-langsmith?_gl=1*91275m*_gcl_au*NDYzNjI2NTkyLjE3NTExMzk1MTA.*_ga*NzM2NjExNTExLjE3NTEwNTg2NzI.*_ga_47WX3HKKY2*czE3NTExMzk1MTAkbzQkZzEkdDE3NTExMzk1NDQkajI2JGwwJGgw', 'title': 'Plans and Pricing - LangChain', 'description': \"Pricing for LangChain products for teams of any size. Choose the plan that suits your needs, whether you're an individual developer or enterprise.\", 'language': 'en'}, page_content='Support SLA\\n\\nTeam trainings.& architectural guidanceLangSmith for Startups and Education.  Seed stage startups and educational institutions, reach out for starter pricing and get shipping today.Reach out to learn about startup pricing for a period of time.Startups\\n\\n\\nEducation\\n\\n\\nEnquire about startup pricing\\n\\n\\nLangSmith for Startups and EducationSeed stage startups and educational institutions, reach out for starter pricing and get shipping today.Startups\\n\\n\\nEducation'),\n",
       " Document(metadata={'source': 'https://www.langchain.com/pricing-langsmith?_gl=1*91275m*_gcl_au*NDYzNjI2NTkyLjE3NTExMzk1MTA.*_ga*NzM2NjExNTExLjE3NTEwNTg2NzI.*_ga_47WX3HKKY2*czE3NTExMzk1MTAkbzQkZzEkdDE3NTExMzk1NDQkajI2JGwwJGgw', 'title': 'Plans and Pricing - LangChain', 'description': \"Pricing for LangChain products for teams of any size. Choose the plan that suits your needs, whether you're an individual developer or enterprise.\", 'language': 'en'}, page_content='Education\\n\\n\\nCompare plansFeaturesDeveloperPlusEnterpriseTeamUsersMaximum of 1 seat(free)Up to 10 seats$39\\xa0per\\xa0seat/monthCustomWorkspaces\\u200d(A workspace separates and restricts access across teams)N/AUp to 3 WorkspacesUp to 10 WorkspacesLangSmith:\\xa0For unified observability &\\xa0evalsTracing\\n\\n\\n\\n\\n\\n\\n\\n\\nMonitoring\\n\\n\\n\\n\\n\\n\\n\\n\\nOnline and Offline Evals\\n\\n\\n\\n\\n\\n\\n\\n\\nDataset collection\\n\\n\\n\\n\\n\\n\\n\\n\\nAnnotation queue (human feedback)\\n\\n\\n\\n\\n\\n\\n\\n\\nPrompt Hub and Playground\\n\\n\\n\\n\\n\\n\\n\\n\\nBulk data export'),\n",
       " Document(metadata={'source': 'https://www.langchain.com/pricing-langsmith?_gl=1*91275m*_gcl_au*NDYzNjI2NTkyLjE3NTExMzk1MTA.*_ga*NzM2NjExNTExLjE3NTEwNTg2NzI.*_ga_47WX3HKKY2*czE3NTExMzk1MTAkbzQkZzEkdDE3NTExMzk1NDQkajI2JGwwJGgw', 'title': 'Plans and Pricing - LangChain', 'description': \"Pricing for LangChain products for teams of any size. Choose the plan that suits your needs, whether you're an individual developer or enterprise.\", 'language': 'en'}, page_content=\"Trace volumePrices for traces vary depending on the data retention period you've set. \\n\\n\\n\\n 5k base traces / mo included Pay as you go thereafter:\\xa0\\u2028•\\xa0$0.50 per 1k base traces • $4.50 per 1k extended traces 10k base traces / mo included Pay as you go thereafter:\\xa0\\u2028•\\xa0$0.50 per 1k base traces • $4.50 per 1k extended tracesCustomBase trace retentionPrices for traces vary depending on the data retention period you've set.\"),\n",
       " Document(metadata={'source': 'https://www.langchain.com/pricing-langsmith?_gl=1*91275m*_gcl_au*NDYzNjI2NTkyLjE3NTExMzk1MTA.*_ga*NzM2NjExNTExLjE3NTEwNTg2NzI.*_ga_47WX3HKKY2*czE3NTExMzk1MTAkbzQkZzEkdDE3NTExMzk1NDQkajI2JGwwJGgw', 'title': 'Plans and Pricing - LangChain', 'description': \"Pricing for LangChain products for teams of any size. Choose the plan that suits your needs, whether you're an individual developer or enterprise.\", 'language': 'en'}, page_content=\"14 days14 daysCustomExtended trace retentionPrices for traces vary depending on the data retention period you've set.\"),\n",
       " Document(metadata={'source': 'https://www.langchain.com/pricing-langsmith?_gl=1*91275m*_gcl_au*NDYzNjI2NTkyLjE3NTExMzk1MTA.*_ga*NzM2NjExNTExLjE3NTEwNTg2NzI.*_ga_47WX3HKKY2*czE3NTExMzk1MTAkbzQkZzEkdDE3NTExMzk1NDQkajI2JGwwJGgw', 'title': 'Plans and Pricing - LangChain', 'description': \"Pricing for LangChain products for teams of any size. Choose the plan that suits your needs, whether you're an individual developer or enterprise.\", 'language': 'en'}, page_content=\"400 days400 daysCustomMax ingested events / hour50k / 250k (with payment on file) 500kCustomTotal trace size stored / hour500MB / 2.5GB (with payment on file)5GBCustomDeployment Options for LangSmithDeployment type(s)Cloud SaaSCloud SaaSCloud SaaS, Hybrid, or Self-HostedInfraFully managed by LangChainFully managed by LangChainCloud SaaS: Fully managed by LangChainHybrid: SaaS control plane, Self-hosted data plane\\xa0Self-Hosted: Fully self-managedData locationLangChain's Cloud (US\\xa0or\"),\n",
       " Document(metadata={'source': 'https://www.langchain.com/pricing-langsmith?_gl=1*91275m*_gcl_au*NDYzNjI2NTkyLjE3NTExMzk1MTA.*_ga*NzM2NjExNTExLjE3NTEwNTg2NzI.*_ga_47WX3HKKY2*czE3NTExMzk1MTAkbzQkZzEkdDE3NTExMzk1NDQkajI2JGwwJGgw', 'title': 'Plans and Pricing - LangChain', 'description': \"Pricing for LangChain products for teams of any size. Choose the plan that suits your needs, whether you're an individual developer or enterprise.\", 'language': 'en'}, page_content=\"Cloud (US\\xa0or EU)LangChain's Cloud (US or EU)Cloud SaaS:\\xa0LangChain's Cloud (US\\xa0or EU)Hybrid:\\xa0Your VPCSelf-Hosted:\\xa0Your VPCLangGraph Platform:\\xa0Infrastructure to deploy &\\xa0manage long-running, stateful agentsLangGraph Studio\"),\n",
       " Document(metadata={'source': 'https://www.langchain.com/pricing-langsmith?_gl=1*91275m*_gcl_au*NDYzNjI2NTkyLjE3NTExMzk1MTA.*_ga*NzM2NjExNTExLjE3NTEwNTg2NzI.*_ga_47WX3HKKY2*czE3NTExMzk1MTAkbzQkZzEkdDE3NTExMzk1NDQkajI2JGwwJGgw', 'title': 'Plans and Pricing - LangChain', 'description': \"Pricing for LangChain products for teams of any size. Choose the plan that suits your needs, whether you're an individual developer or enterprise.\", 'language': 'en'}, page_content='Expose agent as MCP server\\n\\n\\n\\n\\n\\n\\n\\n\\nReal-time streaming of intermediary steps and final output\\n\\n\\n\\n\\n\\n\\n\\n\\n1-Click Deploy\\n\\n\\n\\n\\n\\n\\n\\nHorizontally-scalable service for production-sized deployments\\n\\n\\n\\n\\n\\n\\n\\nAssistants API\\n\\n\\n\\n\\n\\n\\n\\n30+\\xa0API\\xa0endpoints including state and memory\\n\\n\\n\\n\\n\\n\\n\\nCrons scheduling\\n\\n\\n\\n\\n\\n\\n\\nAuthentication &\\xa0authorization for LangGraph APIs'),\n",
       " Document(metadata={'source': 'https://www.langchain.com/pricing-langsmith?_gl=1*91275m*_gcl_au*NDYzNjI2NTkyLjE3NTExMzk1MTA.*_ga*NzM2NjExNTExLjE3NTEwNTg2NzI.*_ga_47WX3HKKY2*czE3NTExMzk1MTAkbzQkZzEkdDE3NTExMzk1NDQkajI2JGwwJGgw', 'title': 'Plans and Pricing - LangChain', 'description': \"Pricing for LangChain products for teams of any size. Choose the plan that suits your needs, whether you're an individual developer or enterprise.\", 'language': 'en'}, page_content='Deployment for LangGraph PlatformDeployment type(s)Self-Hosted LiteCloud SaaSCloud SaaS, Hybrid, or Self-HostedNode execution costFirst 100k nodes / mo freeContact sales for higher volumes1 free Dev deployment with node executions included.For additional deployments:\\xa0$0.001/node executionCustomUptime costN/A$0.0007 / min per Development deployment$0.0036 / min per Production deploymentCustomInfraFully self-managedFully managed by LangChainCloud SaaS: Fully managed by LangChainHybrid: SaaS'),\n",
       " Document(metadata={'source': 'https://www.langchain.com/pricing-langsmith?_gl=1*91275m*_gcl_au*NDYzNjI2NTkyLjE3NTExMzk1MTA.*_ga*NzM2NjExNTExLjE3NTEwNTg2NzI.*_ga_47WX3HKKY2*czE3NTExMzk1MTAkbzQkZzEkdDE3NTExMzk1NDQkajI2JGwwJGgw', 'title': 'Plans and Pricing - LangChain', 'description': \"Pricing for LangChain products for teams of any size. Choose the plan that suits your needs, whether you're an individual developer or enterprise.\", 'language': 'en'}, page_content=\"SaaS control plane, Self-hosted data plane\\xa0Self-Hosted: Fully self-managedData locationYour VPCLangChain's Cloud (US or EU)Cloud SaaS:\\xa0LangChain's Cloud (US\\xa0or EU)Hybrid:\\xa0Your VPCSelf-Hosted:\\xa0Your VPCSecurity ControlsSSO\"),\n",
       " Document(metadata={'source': 'https://www.langchain.com/pricing-langsmith?_gl=1*91275m*_gcl_au*NDYzNjI2NTkyLjE3NTExMzk1MTA.*_ga*NzM2NjExNTExLjE3NTEwNTg2NzI.*_ga_47WX3HKKY2*czE3NTExMzk1MTAkbzQkZzEkdDE3NTExMzk1NDQkajI2JGwwJGgw', 'title': 'Plans and Pricing - LangChain', 'description': \"Pricing for LangChain products for teams of any size. Choose the plan that suits your needs, whether you're an individual developer or enterprise.\", 'language': 'en'}, page_content='Google, GitHubCustom SSORole-Based Access Control\\n\\n\\n\\n\\n\\n\\nOrganization Roles (User and Admin)\\n\\n\\n\\n\\n\\n\\n\\nSupportCommunity Slack\\n\\n\\n\\n\\n\\n\\n\\n\\nEmail Support\\n\\n\\n\\n\\n\\n\\n\\nTeam trainings\\n\\n\\n\\n\\n\\n\\n Architectural guidance for your applications\\n\\n\\n\\n\\n\\n\\nAccess to deployed engineers\\n\\n\\n\\n\\n\\n\\nSLA\\n\\n\\n\\n\\n\\n\\nProcurementBillingMonthly, self-serveMonthly, self-serveAnnual invoiceCustom Terms\\n\\n\\n\\n\\n\\n\\nInfosec Review\\n\\n\\n\\n\\n\\n\\nFAQsGeneral QuestionsWhich plan is right for me?'),\n",
       " Document(metadata={'source': 'https://www.langchain.com/pricing-langsmith?_gl=1*91275m*_gcl_au*NDYzNjI2NTkyLjE3NTExMzk1MTA.*_ga*NzM2NjExNTExLjE3NTEwNTg2NzI.*_ga_47WX3HKKY2*czE3NTExMzk1MTAkbzQkZzEkdDE3NTExMzk1NDQkajI2JGwwJGgw', 'title': 'Plans and Pricing - LangChain', 'description': \"Pricing for LangChain products for teams of any size. Choose the plan that suits your needs, whether you're an individual developer or enterprise.\", 'language': 'en'}, page_content='Our Developer plan is a great choice for personal projects. You will have 1 free seat with access to LangSmith (5k base traces/month included).\\xa0\\xa0\\u200dThe Plus plan is for teams that want to self-serve with moderate usage and collaboration needs. You can purchase up to 10 seats with access to LangSmith (10k base traces/month included). You will be able to ship agents with our managed LangGraph Platform Cloud service, with 1 free dev-sized deployment included.\\xa0\\u200dThe Enterprise plan is for teams that'),\n",
       " Document(metadata={'source': 'https://www.langchain.com/pricing-langsmith?_gl=1*91275m*_gcl_au*NDYzNjI2NTkyLjE3NTExMzk1MTA.*_ga*NzM2NjExNTExLjE3NTEwNTg2NzI.*_ga_47WX3HKKY2*czE3NTExMzk1MTAkbzQkZzEkdDE3NTExMzk1NDQkajI2JGwwJGgw', 'title': 'Plans and Pricing - LangChain', 'description': \"Pricing for LangChain products for teams of any size. Choose the plan that suits your needs, whether you're an individual developer or enterprise.\", 'language': 'en'}, page_content='is for teams that need more advanced administration, security, support, or deployment options. Contact our sales team to learn more.Do you offer a plan for startups?'),\n",
       " Document(metadata={'source': 'https://www.langchain.com/pricing-langsmith?_gl=1*91275m*_gcl_au*NDYzNjI2NTkyLjE3NTExMzk1MTA.*_ga*NzM2NjExNTExLjE3NTEwNTg2NzI.*_ga_47WX3HKKY2*czE3NTExMzk1MTAkbzQkZzEkdDE3NTExMzk1NDQkajI2JGwwJGgw', 'title': 'Plans and Pricing - LangChain', 'description': \"Pricing for LangChain products for teams of any size. Choose the plan that suits your needs, whether you're an individual developer or enterprise.\", 'language': 'en'}, page_content='Yes! We offer a Startup Plan for LangSmith, designed for early-stage companies building agentic applications. You’ll get discounted rates and generous free trace allotments to build with confidence from day one.\\u200d\\u200dApply here to get started with startup pricing. Customers can stay on the Startup Plan for 2 years before graduating to the Plus Plan.When will I be billed?'),\n",
       " Document(metadata={'source': 'https://www.langchain.com/pricing-langsmith?_gl=1*91275m*_gcl_au*NDYzNjI2NTkyLjE3NTExMzk1MTA.*_ga*NzM2NjExNTExLjE3NTEwNTg2NzI.*_ga_47WX3HKKY2*czE3NTExMzk1MTAkbzQkZzEkdDE3NTExMzk1NDQkajI2JGwwJGgw', 'title': 'Plans and Pricing - LangChain', 'description': \"Pricing for LangChain products for teams of any size. Choose the plan that suits your needs, whether you're an individual developer or enterprise.\", 'language': 'en'}, page_content='For the Developer or Plus Plan, seats are billed monthly on the 1st or pro-rated if added mid-month (no credit for removed seats); traces are billed monthly in arrears for your usage. Enterprise plans are invoiced annually upfront.Will you train on the data that I send to LangSmith or LangGraph Platform?\\n\\nWe will not train on your data, and you own all rights to your data. See our Terms of Service for more information.LangSmith QuestionsWhat is a trace? Can it contain multiple events?'),\n",
       " Document(metadata={'source': 'https://www.langchain.com/pricing-langsmith?_gl=1*91275m*_gcl_au*NDYzNjI2NTkyLjE3NTExMzk1MTA.*_ga*NzM2NjExNTExLjE3NTEwNTg2NzI.*_ga_47WX3HKKY2*czE3NTExMzk1MTAkbzQkZzEkdDE3NTExMzk1NDQkajI2JGwwJGgw', 'title': 'Plans and Pricing - LangChain', 'description': \"Pricing for LangChain products for teams of any size. Choose the plan that suits your needs, whether you're an individual developer or enterprise.\", 'language': 'en'}, page_content=\"A trace represents a single execution of your application—whether it’s an agent, evaluator, or playground session. It can include many individual steps, such as LLM calls and other tracked events. Here's an example of a single trace.What is the difference between a base trace and an extended trace?\"),\n",
       " Document(metadata={'source': 'https://www.langchain.com/pricing-langsmith?_gl=1*91275m*_gcl_au*NDYzNjI2NTkyLjE3NTExMzk1MTA.*_ga*NzM2NjExNTExLjE3NTEwNTg2NzI.*_ga_47WX3HKKY2*czE3NTExMzk1MTAkbzQkZzEkdDE3NTExMzk1NDQkajI2JGwwJGgw', 'title': 'Plans and Pricing - LangChain', 'description': \"Pricing for LangChain products for teams of any size. Choose the plan that suits your needs, whether you're an individual developer or enterprise.\", 'language': 'en'}, page_content='Base traces have a shorter retention period of 14 days and cost $0.50 per 1k traces. Extended traces have a longer retention period of 400 days and cost $5.00 per 1k traces. You can \"upgrade\" base traces to extended traces at $4.50 per 1k traces.Why might I want to upgrade a base trace to an extended trace?'),\n",
       " Document(metadata={'source': 'https://www.langchain.com/pricing-langsmith?_gl=1*91275m*_gcl_au*NDYzNjI2NTkyLjE3NTExMzk1MTA.*_ga*NzM2NjExNTExLjE3NTEwNTg2NzI.*_ga_47WX3HKKY2*czE3NTExMzk1MTAkbzQkZzEkdDE3NTExMzk1NDQkajI2JGwwJGgw', 'title': 'Plans and Pricing - LangChain', 'description': \"Pricing for LangChain products for teams of any size. Choose the plan that suits your needs, whether you're an individual developer or enterprise.\", 'language': 'en'}, page_content='Base traces are short-lived (14-day retention) and ideal for quick debugging or ad-hoc analysis. They’re priced for volume and short-term utility.\\u200dExtended traces, on the other hand, are retained for 400 days and often include valuable feedback—whether from users, evaluators, or human labelers. This feedback makes them essential for ongoing improvement and model tuning (higher utility), which comes with a higher price point.\\u200dLangSmith lets you choose the right retention for each trace, helping'),\n",
       " Document(metadata={'source': 'https://www.langchain.com/pricing-langsmith?_gl=1*91275m*_gcl_au*NDYzNjI2NTkyLjE3NTExMzk1MTA.*_ga*NzM2NjExNTExLjE3NTEwNTg2NzI.*_ga_47WX3HKKY2*czE3NTExMzk1MTAkbzQkZzEkdDE3NTExMzk1NDQkajI2JGwwJGgw', 'title': 'Plans and Pricing - LangChain', 'description': \"Pricing for LangChain products for teams of any size. Choose the plan that suits your needs, whether you're an individual developer or enterprise.\", 'language': 'en'}, page_content='each trace, helping you balance cost and value. Why would I upgrade a base trace to an extended trace?'),\n",
       " Document(metadata={'source': 'https://www.langchain.com/pricing-langsmith?_gl=1*91275m*_gcl_au*NDYzNjI2NTkyLjE3NTExMzk1MTA.*_ga*NzM2NjExNTExLjE3NTEwNTg2NzI.*_ga_47WX3HKKY2*czE3NTExMzk1MTAkbzQkZzEkdDE3NTExMzk1NDQkajI2JGwwJGgw', 'title': 'Plans and Pricing - LangChain', 'description': \"Pricing for LangChain products for teams of any size. Choose the plan that suits your needs, whether you're an individual developer or enterprise.\", 'language': 'en'}, page_content='Base traces are short-lived (14-day retention) and ideal for quick debugging or ad-hoc analysis. They’re priced for volume and short-term utility.\\u200dExtended traces, on the other hand, are retained for 400 days and often include valuable feedback—whether from users, evaluators, or human labelers. This feedback makes them essential for ongoing improvement and model tuning (higher utility), which comes with a higher price point.\\u200dLangSmith lets you choose the right retention for each trace, helping'),\n",
       " Document(metadata={'source': 'https://www.langchain.com/pricing-langsmith?_gl=1*91275m*_gcl_au*NDYzNjI2NTkyLjE3NTExMzk1MTA.*_ga*NzM2NjExNTExLjE3NTEwNTg2NzI.*_ga_47WX3HKKY2*czE3NTExMzk1MTAkbzQkZzEkdDE3NTExMzk1NDQkajI2JGwwJGgw', 'title': 'Plans and Pricing - LangChain', 'description': \"Pricing for LangChain products for teams of any size. Choose the plan that suits your needs, whether you're an individual developer or enterprise.\", 'language': 'en'}, page_content='each trace, helping you balance cost and value. I’ve exhausted my free trace allocation. What can I do?'),\n",
       " Document(metadata={'source': 'https://www.langchain.com/pricing-langsmith?_gl=1*91275m*_gcl_au*NDYzNjI2NTkyLjE3NTExMzk1MTA.*_ga*NzM2NjExNTExLjE3NTEwNTg2NzI.*_ga_47WX3HKKY2*czE3NTExMzk1MTAkbzQkZzEkdDE3NTExMzk1NDQkajI2JGwwJGgw', 'title': 'Plans and Pricing - LangChain', 'description': \"Pricing for LangChain products for teams of any size. Choose the plan that suits your needs, whether you're an individual developer or enterprise.\", 'language': 'en'}, page_content='If you’ve used up your free traces, you can input your credit card details on the Developer or Plus plans to continue sending traces to LangSmith. If you’ve hit the performance usage limits on your tier, you can upgrade to a higher plan to get better limits, or reach out to support@langchain.dev with questions.LangGraph Platform QuestionsDoes LangGraph Platform include any free deployments?'),\n",
       " Document(metadata={'source': 'https://www.langchain.com/pricing-langsmith?_gl=1*91275m*_gcl_au*NDYzNjI2NTkyLjE3NTExMzk1MTA.*_ga*NzM2NjExNTExLjE3NTEwNTg2NzI.*_ga_47WX3HKKY2*czE3NTExMzk1MTAkbzQkZzEkdDE3NTExMzk1NDQkajI2JGwwJGgw', 'title': 'Plans and Pricing - LangChain', 'description': \"Pricing for LangChain products for teams of any size. Choose the plan that suits your needs, whether you're an individual developer or enterprise.\", 'language': 'en'}, page_content='Plus plans include 1 free dev-sized deployment. If you spin up additional dev-sized or production-sized deployments, you’ll be charged by usage (nodes executed and uptime).For my free Dev deployment for LangGraph Platform, is there a cap on the number of nodes executed?\\n\\nIf you’re on the Plus plan, you get 1 free dev-sized deployment – all usage in this deployment will be free no matter how many node executions are run.How do you define nodes executed?'),\n",
       " Document(metadata={'source': 'https://www.langchain.com/pricing-langsmith?_gl=1*91275m*_gcl_au*NDYzNjI2NTkyLjE3NTExMzk1MTA.*_ga*NzM2NjExNTExLjE3NTEwNTg2NzI.*_ga_47WX3HKKY2*czE3NTExMzk1MTAkbzQkZzEkdDE3NTExMzk1NDQkajI2JGwwJGgw', 'title': 'Plans and Pricing - LangChain', 'description': \"Pricing for LangChain products for teams of any size. Choose the plan that suits your needs, whether you're an individual developer or enterprise.\", 'language': 'en'}, page_content='Nodes Executed is the aggregate number of nodes in a LangGraph application that are called and completed successfully during an invocation of the application. If a node in the graph is not called during execution or ends in an error state, these nodes will not be counted. If a node is called and completes successfully multiple times, each occurrence will be counted.What does uptime mean for LangGraph Platform usage?'),\n",
       " Document(metadata={'source': 'https://www.langchain.com/pricing-langsmith?_gl=1*91275m*_gcl_au*NDYzNjI2NTkyLjE3NTExMzk1MTA.*_ga*NzM2NjExNTExLjE3NTEwNTg2NzI.*_ga_47WX3HKKY2*czE3NTExMzk1MTAkbzQkZzEkdDE3NTExMzk1NDQkajI2JGwwJGgw', 'title': 'Plans and Pricing - LangChain', 'description': \"Pricing for LangChain products for teams of any size. Choose the plan that suits your needs, whether you're an individual developer or enterprise.\", 'language': 'en'}, page_content='Uptime is the duration your deployment’s database is live and persisting state. Uptime will be tracked as soon as your deployment is live and ends when you shut it down. Dev deployments are typically short-lived (used during iteration, then deleted) – whereas Production deployments stay live and are updated via revisions (rather than being deleted).\\xa0When should I use a dev-sized deployment vs. a production-sized deployment?'),\n",
       " Document(metadata={'source': 'https://www.langchain.com/pricing-langsmith?_gl=1*91275m*_gcl_au*NDYzNjI2NTkyLjE3NTExMzk1MTA.*_ga*NzM2NjExNTExLjE3NTEwNTg2NzI.*_ga_47WX3HKKY2*czE3NTExMzk1MTAkbzQkZzEkdDE3NTExMzk1NDQkajI2JGwwJGgw', 'title': 'Plans and Pricing - LangChain', 'description': \"Pricing for LangChain products for teams of any size. Choose the plan that suits your needs, whether you're an individual developer or enterprise.\", 'language': 'en'}, page_content='We recommend using the production-sized deployment for any customer-facing agent. Dev-sized deployments are intended for testing and do not support horizontal scaling, backups, or performance optimizations needed in production.Ready to start shipping \\u2028reliable agents faster?Get started with tools from the LangChain product suite for every step of the agent development lifecycle.Get a demoSign up for freeProductsLangChainLangSmithLangGraphAgentsEvaluationRetrievalResourcesPython DocsJS/TS'),\n",
       " Document(metadata={'source': 'https://www.langchain.com/pricing-langsmith?_gl=1*91275m*_gcl_au*NDYzNjI2NTkyLjE3NTExMzk1MTA.*_ga*NzM2NjExNTExLjE3NTEwNTg2NzI.*_ga_47WX3HKKY2*czE3NTExMzk1MTAkbzQkZzEkdDE3NTExMzk1NDQkajI2JGwwJGgw', 'title': 'Plans and Pricing - LangChain', 'description': \"Pricing for LangChain products for teams of any size. Choose the plan that suits your needs, whether you're an individual developer or enterprise.\", 'language': 'en'}, page_content='DocsJS/TS DocsGitHubIntegrationsChangelogCommunityLangSmith Trust PortalCompanyAboutCareersBlogTwitterLinkedInYouTubeMarketing AssetsSign up for our newsletter to stay up to dateThank you! Your submission has been received!Oops! Something went wrong while submitting the form.All systems operationalPrivacy PolicyTerms of Service')]"
      ]
     },
     "execution_count": 49,
     "metadata": {},
     "output_type": "execute_result"
    }
   ],
   "source": [
    "documents"
   ]
  },
  {
   "cell_type": "code",
   "execution_count": 50,
   "id": "507e6292",
   "metadata": {},
   "outputs": [],
   "source": [
    "from langchain_openai import OpenAIEmbeddings\n",
    "embeddings=OpenAIEmbeddings()"
   ]
  },
  {
   "cell_type": "code",
   "execution_count": 51,
   "id": "f06d5dc6",
   "metadata": {},
   "outputs": [
    {
     "data": {
      "text/plain": [
       "<langchain_community.vectorstores.faiss.FAISS at 0x133102520>"
      ]
     },
     "execution_count": 51,
     "metadata": {},
     "output_type": "execute_result"
    }
   ],
   "source": [
    "from langchain_community.vectorstores import FAISS\n",
    "vectorstoredb=FAISS.from_documents(documents,embeddings)\n",
    "vectorstoredb"
   ]
  },
  {
   "cell_type": "code",
   "execution_count": 52,
   "id": "75b2e499",
   "metadata": {},
   "outputs": [
    {
     "data": {
      "text/plain": [
       "'Our Developer plan is a great choice for personal projects. You will have 1 free seat with access to LangSmith (5k base traces/month included).\\xa0\\xa0\\u200dThe Plus plan is for teams that want to self-serve with moderate usage and collaboration needs. You can purchase up to 10 seats with access to LangSmith (10k base traces/month included). You will be able to ship agents with our managed LangGraph Platform Cloud service, with 1 free dev-sized deployment included.\\xa0\\u200dThe Enterprise plan is for teams that'"
      ]
     },
     "execution_count": 52,
     "metadata": {},
     "output_type": "execute_result"
    }
   ],
   "source": [
    "## Query From a vector db\n",
    "query=\"LangSmith plans for teams of any size\"\n",
    "result=vectorstoredb.similarity_search(query)\n",
    "result[0].page_content"
   ]
  },
  {
   "cell_type": "code",
   "execution_count": 53,
   "id": "b8a78316",
   "metadata": {},
   "outputs": [],
   "source": [
    "#till now we imported data ,divided into chunks,converted into vectors ,then stored in vectordb \n",
    "# That lets us find similar chunks for a given query — but to get meaningful answers, we need to pass those chunks to a language model. That’s where RAG (Retrieval-Augmented Generation) comes in."
   ]
  },
  {
   "cell_type": "code",
   "execution_count": 54,
   "id": "53868897",
   "metadata": {},
   "outputs": [],
   "source": [
    "from langchain_openai import ChatOpenAI\n",
    "llm=ChatOpenAI(model=\"gpt-4o\")"
   ]
  },
  {
   "cell_type": "code",
   "execution_count": 55,
   "id": "e507e5d4",
   "metadata": {},
   "outputs": [
    {
     "data": {
      "text/plain": [
       "RunnableBinding(bound=RunnableBinding(bound=RunnableAssign(mapper={\n",
       "  context: RunnableLambda(format_docs)\n",
       "}), kwargs={}, config={'run_name': 'format_inputs'}, config_factories=[])\n",
       "| ChatPromptTemplate(input_variables=['context'], input_types={}, partial_variables={}, messages=[HumanMessagePromptTemplate(prompt=PromptTemplate(input_variables=['context'], input_types={}, partial_variables={}, template='\\nAnswer the following question based only on the provided context:\\n<context>\\n{context}\\n</context>\\n\\n\\n'), additional_kwargs={})])\n",
       "| ChatOpenAI(client=<openai.resources.chat.completions.completions.Completions object at 0x133102b10>, async_client=<openai.resources.chat.completions.completions.AsyncCompletions object at 0x133102d70>, root_client=<openai.OpenAI object at 0x1333959d0>, root_async_client=<openai.AsyncOpenAI object at 0x133395bf0>, model_name='gpt-4o', model_kwargs={}, openai_api_key=SecretStr('**********'))\n",
       "| StrOutputParser(), kwargs={}, config={'run_name': 'stuff_documents_chain'}, config_factories=[])"
      ]
     },
     "execution_count": 55,
     "metadata": {},
     "output_type": "execute_result"
    }
   ],
   "source": [
    "#Retrival Chain,Documents Chain \n",
    "#A document chain in LangChain is any chain designed to:Take a list of documents and process them in a way that’s useful for an LLM.\n",
    "\n",
    "from langchain.chains.combine_documents import create_stuff_documents_chain\n",
    "from langchain_core.prompts import ChatPromptTemplate\n",
    "\n",
    "prompt=ChatPromptTemplate.from_template(\n",
    "    \"\"\"\n",
    "Answer the following question based only on the provided context:\n",
    "<context>\n",
    "{context}\n",
    "</context>\n",
    "\n",
    "\n",
    "\"\"\"\n",
    ")\n",
    "\n",
    "document_chain=create_stuff_documents_chain(llm,prompt)\n",
    "document_chain\n"
   ]
  },
  {
   "cell_type": "code",
   "execution_count": 62,
   "id": "ad23de35",
   "metadata": {},
   "outputs": [
    {
     "name": "stdout",
     "output_type": "stream",
     "text": [
      "<class 'langchain_core.documents.base.Document'>\n"
     ]
    },
    {
     "data": {
      "text/plain": [
       "'The context does not provide specific details about LangGraph Platform pricing. It only mentions that LangSmith plans for teams of any size exist.'"
      ]
     },
     "execution_count": 62,
     "metadata": {},
     "output_type": "execute_result"
    }
   ],
   "source": [
    "from langchain_core.documents import Document\n",
    "print(Document)\n",
    "document_chain.invoke({\n",
    "    \"input\":\"LangSmith plans for teams of any size\",\n",
    "    \"context\":[Document(page_content=\"LangSmith plans for teams of any size Looking for LangGraph Platform pricing?\")]\n",
    "})"
   ]
  },
  {
   "cell_type": "markdown",
   "id": "636c529d",
   "metadata": {},
   "source": [
    "However, we want the documents to first come from the retriever we just set up. That way, we can use the retriever to dynamically select the most relevant documents and pass those in for a given question."
   ]
  },
  {
   "cell_type": "code",
   "execution_count": 57,
   "id": "c57b3621",
   "metadata": {},
   "outputs": [],
   "source": [
    "### input--->retriever--->vectorstoredb\n",
    "retriever=vectorstoredb.as_retriever()\n",
    "\n"
   ]
  },
  {
   "cell_type": "code",
   "execution_count": 58,
   "id": "111294e7",
   "metadata": {},
   "outputs": [],
   "source": [
    "from langchain.chains import create_retrieval_chain\n",
    "retrieval_chain=create_retrieval_chain(retriever,document_chain)"
   ]
  },
  {
   "cell_type": "code",
   "execution_count": 59,
   "id": "8798e1f8",
   "metadata": {},
   "outputs": [
    {
     "data": {
      "text/plain": [
       "RunnableBinding(bound=RunnableAssign(mapper={\n",
       "  context: RunnableBinding(bound=RunnableLambda(lambda x: x['input'])\n",
       "           | VectorStoreRetriever(tags=['FAISS', 'OpenAIEmbeddings'], vectorstore=<langchain_community.vectorstores.faiss.FAISS object at 0x133102520>, search_kwargs={}), kwargs={}, config={'run_name': 'retrieve_documents'}, config_factories=[])\n",
       "})\n",
       "| RunnableAssign(mapper={\n",
       "    answer: RunnableBinding(bound=RunnableBinding(bound=RunnableAssign(mapper={\n",
       "              context: RunnableLambda(format_docs)\n",
       "            }), kwargs={}, config={'run_name': 'format_inputs'}, config_factories=[])\n",
       "            | ChatPromptTemplate(input_variables=['context'], input_types={}, partial_variables={}, messages=[HumanMessagePromptTemplate(prompt=PromptTemplate(input_variables=['context'], input_types={}, partial_variables={}, template='\\nAnswer the following question based only on the provided context:\\n<context>\\n{context}\\n</context>\\n\\n\\n'), additional_kwargs={})])\n",
       "            | ChatOpenAI(client=<openai.resources.chat.completions.completions.Completions object at 0x133102b10>, async_client=<openai.resources.chat.completions.completions.AsyncCompletions object at 0x133102d70>, root_client=<openai.OpenAI object at 0x1333959d0>, root_async_client=<openai.AsyncOpenAI object at 0x133395bf0>, model_name='gpt-4o', model_kwargs={}, openai_api_key=SecretStr('**********'))\n",
       "            | StrOutputParser(), kwargs={}, config={'run_name': 'stuff_documents_chain'}, config_factories=[])\n",
       "  }), kwargs={}, config={'run_name': 'retrieval_chain'}, config_factories=[])"
      ]
     },
     "execution_count": 59,
     "metadata": {},
     "output_type": "execute_result"
    }
   ],
   "source": [
    "retrieval_chain"
   ]
  },
  {
   "cell_type": "code",
   "execution_count": 60,
   "id": "e8bf94a9",
   "metadata": {},
   "outputs": [
    {
     "data": {
      "text/plain": [
       "\"What does the Enterprise plan offer according to the provided context?\\n\\nThe Enterprise plan offers advanced deployment, security, and support features. These include alternative LangSmith & LangGraph Platform deployment options, such as hybrid and self-hosted solutions to ensure that data doesn't leave your VPC. It also provides custom SSO and RBAC, access to a deployed engineering team, and support SLA. This plan includes everything in the Plus plan, along with these additional capabilities.\""
      ]
     },
     "execution_count": 60,
     "metadata": {},
     "output_type": "execute_result"
    }
   ],
   "source": [
    "#GET THE RESPONSE FROM THE LLM\n",
    "response=retrieval_chain.invoke({\"input\":\"LangSmith plans for teams of any size\"})\n",
    "response['answer']"
   ]
  },
  {
   "cell_type": "code",
   "execution_count": 61,
   "id": "18748bea",
   "metadata": {},
   "outputs": [
    {
     "data": {
      "text/plain": [
       "[Document(id='c3bc0648-0d07-4a0f-bc53-031553856570', metadata={'source': 'https://www.langchain.com/pricing-langsmith?_gl=1*91275m*_gcl_au*NDYzNjI2NTkyLjE3NTExMzk1MTA.*_ga*NzM2NjExNTExLjE3NTEwNTg2NzI.*_ga_47WX3HKKY2*czE3NTExMzk1MTAkbzQkZzEkdDE3NTExMzk1NDQkajI2JGwwJGgw', 'title': 'Plans and Pricing - LangChain', 'description': \"Pricing for LangChain products for teams of any size. Choose the plan that suits your needs, whether you're an individual developer or enterprise.\", 'language': 'en'}, page_content='Our Developer plan is a great choice for personal projects. You will have 1 free seat with access to LangSmith (5k base traces/month included).\\xa0\\xa0\\u200dThe Plus plan is for teams that want to self-serve with moderate usage and collaboration needs. You can purchase up to 10 seats with access to LangSmith (10k base traces/month included). You will be able to ship agents with our managed LangGraph Platform Cloud service, with 1 free dev-sized deployment included.\\xa0\\u200dThe Enterprise plan is for teams that'),\n",
       " Document(id='54dec922-9236-4ab1-a3f3-4ce6b68488f7', metadata={'source': 'https://www.langchain.com/pricing-langsmith?_gl=1*91275m*_gcl_au*NDYzNjI2NTkyLjE3NTExMzk1MTA.*_ga*NzM2NjExNTExLjE3NTEwNTg2NzI.*_ga_47WX3HKKY2*czE3NTExMzk1MTAkbzQkZzEkdDE3NTExMzk1NDQkajI2JGwwJGgw', 'title': 'Plans and Pricing - LangChain', 'description': \"Pricing for LangChain products for teams of any size. Choose the plan that suits your needs, whether you're an individual developer or enterprise.\", 'language': 'en'}, page_content='Support SLA\\n\\nTeam trainings.& architectural guidanceLangSmith for Startups and Education.  Seed stage startups and educational institutions, reach out for starter pricing and get shipping today.Reach out to learn about startup pricing for a period of time.Startups\\n\\n\\nEducation\\n\\n\\nEnquire about startup pricing\\n\\n\\nLangSmith for Startups and EducationSeed stage startups and educational institutions, reach out for starter pricing and get shipping today.Startups\\n\\n\\nEducation'),\n",
       " Document(id='f33372d9-1e88-412d-b5b8-36e9d5b9e688', metadata={'source': 'https://www.langchain.com/pricing-langsmith?_gl=1*91275m*_gcl_au*NDYzNjI2NTkyLjE3NTExMzk1MTA.*_ga*NzM2NjExNTExLjE3NTEwNTg2NzI.*_ga_47WX3HKKY2*czE3NTExMzk1MTAkbzQkZzEkdDE3NTExMzk1NDQkajI2JGwwJGgw', 'title': 'Plans and Pricing - LangChain', 'description': \"Pricing for LangChain products for teams of any size. Choose the plan that suits your needs, whether you're an individual developer or enterprise.\", 'language': 'en'}, page_content='Yes! We offer a Startup Plan for LangSmith, designed for early-stage companies building agentic applications. You’ll get discounted rates and generous free trace allotments to build with confidence from day one.\\u200d\\u200dApply here to get started with startup pricing. Customers can stay on the Startup Plan for 2 years before graduating to the Plus Plan.When will I be billed?'),\n",
       " Document(id='a01f947c-faa3-4ebd-b89f-664441e93a90', metadata={'source': 'https://www.langchain.com/pricing-langsmith?_gl=1*91275m*_gcl_au*NDYzNjI2NTkyLjE3NTExMzk1MTA.*_ga*NzM2NjExNTExLjE3NTEwNTg2NzI.*_ga_47WX3HKKY2*czE3NTExMzk1MTAkbzQkZzEkdDE3NTExMzk1NDQkajI2JGwwJGgw', 'title': 'Plans and Pricing - LangChain', 'description': \"Pricing for LangChain products for teams of any size. Choose the plan that suits your needs, whether you're an individual developer or enterprise.\", 'language': 'en'}, page_content='Email supportEnterpriseFor teams with advanced deployment, security, and support needs.\\xa0CustomGet a demoEverything in the Plus plan, and:\\n\\nAlternative LangSmith & LangGraph Platform deployment options, including hybrid and self-hosted so data doesn’t leave your VPC\\n\\nCustom SSO\\xa0and RBAC\\n\\nAcccess to deployed engineering team\\n\\nSupport SLA')]"
      ]
     },
     "execution_count": 61,
     "metadata": {},
     "output_type": "execute_result"
    }
   ],
   "source": [
    "response['context']"
   ]
  },
  {
   "cell_type": "code",
   "execution_count": null,
   "id": "e45b93ba",
   "metadata": {},
   "outputs": [],
   "source": []
  }
 ],
 "metadata": {
  "kernelspec": {
   "display_name": ".venv",
   "language": "python",
   "name": "python3"
  },
  "language_info": {
   "codemirror_mode": {
    "name": "ipython",
    "version": 3
   },
   "file_extension": ".py",
   "mimetype": "text/x-python",
   "name": "python",
   "nbconvert_exporter": "python",
   "pygments_lexer": "ipython3",
   "version": "3.13.5"
  }
 },
 "nbformat": 4,
 "nbformat_minor": 5
}
