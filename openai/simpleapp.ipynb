{
 "cells": [
  {
   "cell_type": "markdown",
   "id": "c7742aae",
   "metadata": {},
   "source": [
    "#### Simple GenAI APP using Langchain"
   ]
  },
  {
   "cell_type": "code",
   "execution_count": 1,
   "id": "c4c34ae0",
   "metadata": {},
   "outputs": [],
   "source": [
    "import os\n",
    "from dotenv import load_dotenv\n",
    "load_dotenv()\n",
    "\n",
    "os.environ['OPENAI_API_KEY']=os.getenv(\"OPENAI_API_KEY\")\n",
    "## Langsmith Tracking\n",
    "os.environ[\"LANGCHAIN_API_KEY\"]=os.getenv(\"LANGCHAIN_API_KEY\")\n",
    "os.environ[\"LANGCHAIN_TRACING_V2\"]=\"true\"\n",
    "os.environ[\"LANGCHAIN_PROJECT\"]=os.getenv(\"LANGCHAIN_PROJECT\")"
   ]
  },
  {
   "cell_type": "code",
   "execution_count": 18,
   "id": "cd96a2d4",
   "metadata": {},
   "outputs": [
    {
     "data": {
      "text/plain": [
       "<langchain_community.document_loaders.web_base.WebBaseLoader at 0x10e321d10>"
      ]
     },
     "execution_count": 18,
     "metadata": {},
     "output_type": "execute_result"
    }
   ],
   "source": [
    "#data ingestion --from website we need to scrape the data\n",
    "from langchain_community.document_loaders import WebBaseLoader\n",
    "\n",
    "loader=WebBaseLoader(\"https://www.langchain.com/pricing-langsmith?_gl=1*91275m*_gcl_au*NDYzNjI2NTkyLjE3NTExMzk1MTA.*_ga*NzM2NjExNTExLjE3NTEwNTg2NzI.*_ga_47WX3HKKY2*czE3NTExMzk1MTAkbzQkZzEkdDE3NTExMzk1NDQkajI2JGwwJGgw\")\n",
    "loader"
   ]
  },
  {
   "cell_type": "code",
   "execution_count": 19,
   "id": "0dbf2113",
   "metadata": {},
   "outputs": [
    {
     "data": {
      "text/plain": [
       "[Document(metadata={'source': 'https://www.langchain.com/pricing-langsmith?_gl=1*91275m*_gcl_au*NDYzNjI2NTkyLjE3NTExMzk1MTA.*_ga*NzM2NjExNTExLjE3NTEwNTg2NzI.*_ga_47WX3HKKY2*czE3NTExMzk1MTAkbzQkZzEkdDE3NTExMzk1NDQkajI2JGwwJGgw', 'title': 'LangSmith Pricing', 'description': \"LangSmith pricing for teams of any size. Choose the plan that suits your needs, whether you're an individual developer or enterprise. Debug, test, and monitor your LLM apps confidently.\", 'language': 'en'}, page_content='LangSmith Pricing\\n\\n\\n\\n\\n\\n\\n\\n\\n\\n\\n\\n\\n\\n\\n\\n\\n\\n\\n\\n\\n\\n\\nProducts\\n\\nFrameworksLangGraphLangChainPlatformsLangSmithLangGraph PlatformResources\\n\\nResources HubBlogCustomer StoriesLangChain AcademyCommunityExpertsChangelogDocs\\n\\nPythonLangGraphLangSmithLangChainJavaScriptLangGraphLangSmithLangChainCompany\\n\\nAboutCareersPricing\\n\\nLangSmithLangGraph PlatformGet a demoSign upLangSmith plans for teams of\\xa0any\\xa0sizeLooking for LangGraph Platform pricing?StartupsDesigned for early stage startups building AI applicationsReach out for starter pricing and get shipping todayReach outWhat to expect:We want all early stage companies to build with LangSmith. LangSmith for Startups offers discounted prices and a generous free, monthly trace allotment, so you can have the right tooling in place as you grow your business.DeveloperDesigned for hobbyists who want to start their adventure soloFree for 1 user5k traces per month included, pay as you go thereafterFirst 5k traces included, starting at $0.50 per 1k base \\xa0traces thereafter.\\n\\n\\n\\nSign upKey features:\\n\\n1 Developer seat\\n\\nDebugging traces\\n\\nDataset collection\\n\\nTesting and evaluation\\n\\nPrompt management\\n\\nMonitoringPlusEverything in Developer, plus team features and better rate limits.$39/user per month10k traces per month included, pay as you go thereafterFirst 10k traces included, starting at $0.50 per 1k base \\xa0traces thereafter.\\n\\n\\n\\nSign upKey features:\\n\\nAll features in Developer tier\\n\\nUp to 10 seats\\n\\nHigher rate limits\\n\\nEmail supportEnterpriseDesigned for teams with more security, deployment, and support needsCustomGet a demoKey features:\\n\\nAll features in Plus tier\\n\\nCustom Single Sign On (SSO)\\n\\nSLA\\n\\nSelf-hosted deployment options\\n\\nCustom rate limits\\n\\nTeam trainings\\n\\nShared Slack channel\\n\\nArchitectural guidance\\n\\nDedicated customer success managerLangSmith for Startups and Education.  Seed stage startups and educational institutions, reach out for starter pricing and get shipping today.Reach out to learn about startup pricing for a period of time.Startups\\n\\n\\nEducation\\n\\n\\nEnquire about startup pricing\\n\\n\\nLangSmith for Startups and EducationSeed stage startups and educational institutions, reach out for starter pricing and get shipping today.Startups\\n\\n\\nEducation\\n\\n\\nCompare plansDeveloperPlusEnterpriseFeaturesDebugging Traces\\n\\n\\n\\n\\n\\n\\n\\n\\nDataset Collection\\n\\n\\n\\n\\n\\n\\n\\n\\nHuman Labeling\\n\\n\\n\\n\\n\\n\\n\\n\\nTesting and Evaluation\\n\\n\\n\\n\\n\\n\\n\\n\\nPrompt Management\\n\\n\\n\\n\\n\\n\\n\\n\\nMonitoring\\n\\n\\n\\n\\n\\n\\n\\n\\nBulk Data Export\\n\\n\\n\\n\\n\\n\\n\\nTeamDeveloper SeatsMaximum 1 seatFreeMaximum 10 seats$39\\xa0per\\xa0seat/monthCustom pricingWorkspacesSingle, default Workspace under Personal OrganizationUp to 3 Workspaces per OrganizationUp to 10 Workspaces per Organization (contact for more)UsageTraces Prices for traces vary depending on the data retention period you\\'ve set. \\n\\n\\n\\nFirst 5k base traces and extended upgrades per month for freePay as you go thereafter:\\xa0\\u2028$0.50 per 1k base traces (14-day retention)Additional $4.50 per 1k extended traces (400-day retention)First 10k base traces and extended upgrades per month for freePay as you go thereafter:\\xa0\\u2028$0.50 per 1k base traces (14-day retention)Additional $4.50 per 1k extended traces (400-day retention)CustomMax Ingested Events / Hour50k / 250k (with payment method on file) 500kCustomTotal Trace Size Stored / Hour500MB / 2.5GB (with payment method on file)5GBCustomSecurity ControlsSSO\\n\\nGoogle, GitHubCustom SSORole Based Access Control\\n\\n\\n\\n\\n\\n\\nOrganization Roles (User and Admin)\\n\\n\\n\\n\\n\\n\\n\\nDeploymentHosted in US or EUHosted in US or EUAdd-on for self-hosted deployment in customer\\'s VPCSupportEmail SupportCommunity Discord\\n\\n\\n\\n\\n\\nShared Slack Channel Support\\n\\n\\n\\n\\n\\n\\nTeam Trainings\\n\\n\\n\\n\\n\\n\\nApplication Architectural Guidance\\n\\n\\n\\n\\n\\n\\nDedicated Customer Success Manager\\n\\n\\n\\n\\n\\n\\nSLA\\n\\n\\n\\n\\n\\n\\nProcurementBillingMonthly, self-serveMonthly, self-serveAnnual invoiceCustom Terms and Data Privacy Agreement\\n\\n\\n\\n\\n\\n\\nInfosec Review\\n\\n\\n\\n\\n\\n\\nHear from our happy customersLangChain, LangGraph, and LangSmith help teams of all sizes, across all industries - from ambitious startups to established enterprises.“By combining the benefits of LangSmith and standing on the shoulders of a gigantic open-source community, we’re able to identify the right approaches of using LLMs in an enterprise-setting faster.”Yusuke KajiGeneral Manager of AI“Working with LangChain and LangSmith on the Elastic AI Assistant had a significant positive impact on the overall pace and quality of the development and shipping experience. We couldn’t have achieved \\xa0the product experience delivered to our customers without LangChain, and we couldn’t have done it at the same pace without LangSmith.”James SpiteriDirector of Security Products“As soon as we heard about LangSmith, we moved our entire development stack onto it. We could have built evaluation, testing and monitoring tools in house, but with LangSmith it took us 10x less time to get a 1000x better tool.”Jose PeñaSenior Manager\\n\\n\\n\\n\\n\\n\\n\\n\\nHave a question about our plans?Which plan is right for me?\\n\\nOur Developer plan is a great choice for personal projects. You will have 1 free seat with access to LangSmith (5k base traces/month included).\\xa0\\xa0\\u200dThe Plus plan is for teams that want to self-serve with moderate usage and collaboration needs. You can purchase up to 10 seats with access to LangSmith (10k base traces/month included). You will be able to ship agents with our managed LangGraph Platform Cloud service, with 1 free dev-sized deployment included.\\xa0\\u200dThe Enterprise plan is for teams that need more advanced administration, security, support, or deployment options. Contact our sales team to learn more.Do you offer a plan for startups?\\n\\nYes! We offer a Startup Plan for LangSmith, designed for early-stage companies building agentic applications. You’ll get discounted rates and generous free trace allotments to build with confidence from day one.\\u200d\\u200dApply here to get started with startup pricing. Customers can stay on the Startup Plan for 2 years before graduating to the Plus Plan.What is a trace? Can it contain multiple events?\\n\\nA trace represents a single execution of your application—whether it’s an agent, evaluator, or playground session. It can include many individual steps, such as LLM calls and other tracked events. Here\\'s an example of a single trace.What is the difference between a base trace and an extended trace?\\n\\nBase traces have a shorter retention period of 14 days and cost $0.50 per 1k traces. Extended traces have a longer retention period of 400 days and cost $5.00 per 1k traces. You can \"upgrade\" base traces to extended traces at $4.50 per 1k traces.Why might I want to upgrade a base trace to an extended trace?\\n\\nBase traces are short-lived (14-day retention) and ideal for quick debugging or ad-hoc analysis. They’re priced for volume and short-term utility.\\u200dExtended traces, on the other hand, are retained for 400 days and often include valuable feedback—whether from users, evaluators, or human labelers. This feedback makes them essential for ongoing improvement and model tuning (higher utility), which comes with a higher price point.\\u200dLangSmith lets you choose the right retention for each trace, helping you balance cost and value. I’ve hit my usage limits. What can I do?\\n\\nIf you’ve consumed the monthly allotment of free traces in your account, you can purchase credits via credit card on the Developer and Plus plans to continue sending traces to LangSmith. If you’ve hit the performance usage limits on your tier, you can upgrade to a higher plan to get better limits, or reach out to support@langchain.dev with questions.Can I pay by ACH?\\n\\nYes, we offer ACH payment on the Enterprise plan, and we’re happy to work with your procurement team to onboard as a new vendor.How will billing work?\\n\\nSeats are billed monthly on the first of the month or pro-rated if additional seats are purchased in the middle of the month. Churned seats mid month won’t get credited. You can purchase LangSmith credits for your tracing usage. As long as you have credits in your account, we’ll service your traces and deduct from your credit balance. You’ll be able to set alerts and auto-top ups on credits if you choose.\\u200dEnterprise plan customers are billed annually by invoice.What can I expect from support?\\n\\nOn the Plus plan, you receive preferential, email support at support@langchain.dev. On the Enterprise plan, you’ll get white-glove support with a Slack channel, a dedicated customer success engineer, and monthly check-ins to go over LangSmith and LangChain questions. We can help with anything from debugging, agent and RAG techniques, evaluation approaches, and cognitive architecture reviews. If you purchase the add-on to run LangSmith in your environment, we’ll also support deployments and new releases with our infra engineering team on-call.Where is my data stored?\\n\\nWhen using LangSmith hosted at smith.langchain.com, data is stored in GCP us-central-1. If you’re on the Enterprise plan, we can deliver LangSmith to run on your kubernetes cluster in AWS, GCP, or Azure so that data never leaves your environment. For more information, check out our documentation.Which security frameworks is LangSmith compliant with?\\n\\nWe are SOC 2 Type II, HIPAA, and GDPR compliant. We\\'re able to establish a BAA with customers on our Enterprise plan. You can request more information about our security policies and posture at trust.langchain.com.Will you train on the data that I send LangSmith?\\n\\nWe will not train on your data, and you own all rights to your data. See LangSmith Terms of Service for more information.Ready to start shipping \\u2028reliable agents faster?Get started with tools from the LangChain product suite for every step of the agent development lifecycle.Get a demoSign up for freeProductsLangChainLangSmithLangGraphAgentsEvaluationRetrievalResourcesPython DocsJS/TS DocsGitHubIntegrationsChangelogCommunityLangSmith Trust PortalCompanyAboutCareersBlogTwitterLinkedInYouTubeMarketing AssetsSign up for our newsletter to stay up to dateThank you! Your submission has been received!Oops! Something went wrong while submitting the form.All systems operationalPrivacy PolicyTerms of Service\\n\\n\\n\\n\\n\\n\\n\\n')]"
      ]
     },
     "execution_count": 19,
     "metadata": {},
     "output_type": "execute_result"
    }
   ],
   "source": [
    "docs=loader.load()\n",
    "docs"
   ]
  },
  {
   "cell_type": "code",
   "execution_count": 20,
   "id": "17eb54a5",
   "metadata": {},
   "outputs": [],
   "source": [
    "### Load Data--> Docs-->Divide our Docuemnts into chunks documents\n",
    "# text-->vectors-->Vector Embeddings\n",
    "# --->Vector Store DB\n",
    "\n",
    "\n",
    "from langchain_text_splitters import RecursiveCharacterTextSplitter\n",
    "\n",
    "text_splitter=RecursiveCharacterTextSplitter(chunk_size=500,chunk_overlap=20)\n",
    "documents=text_splitter.split_documents(docs)\n"
   ]
  },
  {
   "cell_type": "code",
   "execution_count": 21,
   "id": "cb609328",
   "metadata": {},
   "outputs": [
    {
     "data": {
      "text/plain": [
       "[Document(metadata={'source': 'https://www.langchain.com/pricing-langsmith?_gl=1*91275m*_gcl_au*NDYzNjI2NTkyLjE3NTExMzk1MTA.*_ga*NzM2NjExNTExLjE3NTEwNTg2NzI.*_ga_47WX3HKKY2*czE3NTExMzk1MTAkbzQkZzEkdDE3NTExMzk1NDQkajI2JGwwJGgw', 'title': 'LangSmith Pricing', 'description': \"LangSmith pricing for teams of any size. Choose the plan that suits your needs, whether you're an individual developer or enterprise. Debug, test, and monitor your LLM apps confidently.\", 'language': 'en'}, page_content='LangSmith Pricing\\n\\n\\n\\n\\n\\n\\n\\n\\n\\n\\n\\n\\n\\n\\n\\n\\n\\n\\n\\n\\n\\n\\nProducts\\n\\nFrameworksLangGraphLangChainPlatformsLangSmithLangGraph PlatformResources\\n\\nResources HubBlogCustomer StoriesLangChain AcademyCommunityExpertsChangelogDocs\\n\\nPythonLangGraphLangSmithLangChainJavaScriptLangGraphLangSmithLangChainCompany\\n\\nAboutCareersPricing'),\n",
       " Document(metadata={'source': 'https://www.langchain.com/pricing-langsmith?_gl=1*91275m*_gcl_au*NDYzNjI2NTkyLjE3NTExMzk1MTA.*_ga*NzM2NjExNTExLjE3NTEwNTg2NzI.*_ga_47WX3HKKY2*czE3NTExMzk1MTAkbzQkZzEkdDE3NTExMzk1NDQkajI2JGwwJGgw', 'title': 'LangSmith Pricing', 'description': \"LangSmith pricing for teams of any size. Choose the plan that suits your needs, whether you're an individual developer or enterprise. Debug, test, and monitor your LLM apps confidently.\", 'language': 'en'}, page_content='LangSmithLangGraph PlatformGet a demoSign upLangSmith plans for teams of\\xa0any\\xa0sizeLooking for LangGraph Platform pricing?StartupsDesigned for early stage startups building AI applicationsReach out for starter pricing and get shipping todayReach outWhat to expect:We want all early stage companies to build with LangSmith. LangSmith for Startups offers discounted prices and a generous free, monthly trace allotment, so you can have the right tooling in place as you grow your'),\n",
       " Document(metadata={'source': 'https://www.langchain.com/pricing-langsmith?_gl=1*91275m*_gcl_au*NDYzNjI2NTkyLjE3NTExMzk1MTA.*_ga*NzM2NjExNTExLjE3NTEwNTg2NzI.*_ga_47WX3HKKY2*czE3NTExMzk1MTAkbzQkZzEkdDE3NTExMzk1NDQkajI2JGwwJGgw', 'title': 'LangSmith Pricing', 'description': \"LangSmith pricing for teams of any size. Choose the plan that suits your needs, whether you're an individual developer or enterprise. Debug, test, and monitor your LLM apps confidently.\", 'language': 'en'}, page_content='as you grow your business.DeveloperDesigned for hobbyists who want to start their adventure soloFree for 1 user5k traces per month included, pay as you go thereafterFirst 5k traces included, starting at $0.50 per 1k base \\xa0traces thereafter.'),\n",
       " Document(metadata={'source': 'https://www.langchain.com/pricing-langsmith?_gl=1*91275m*_gcl_au*NDYzNjI2NTkyLjE3NTExMzk1MTA.*_ga*NzM2NjExNTExLjE3NTEwNTg2NzI.*_ga_47WX3HKKY2*czE3NTExMzk1MTAkbzQkZzEkdDE3NTExMzk1NDQkajI2JGwwJGgw', 'title': 'LangSmith Pricing', 'description': \"LangSmith pricing for teams of any size. Choose the plan that suits your needs, whether you're an individual developer or enterprise. Debug, test, and monitor your LLM apps confidently.\", 'language': 'en'}, page_content='Sign upKey features:\\n\\n1 Developer seat\\n\\nDebugging traces\\n\\nDataset collection\\n\\nTesting and evaluation\\n\\nPrompt management\\n\\nMonitoringPlusEverything in Developer, plus team features and better rate limits.$39/user per month10k traces per month included, pay as you go thereafterFirst 10k traces included, starting at $0.50 per 1k base \\xa0traces thereafter.\\n\\n\\n\\nSign upKey features:\\n\\nAll features in Developer tier\\n\\nUp to 10 seats\\n\\nHigher rate limits'),\n",
       " Document(metadata={'source': 'https://www.langchain.com/pricing-langsmith?_gl=1*91275m*_gcl_au*NDYzNjI2NTkyLjE3NTExMzk1MTA.*_ga*NzM2NjExNTExLjE3NTEwNTg2NzI.*_ga_47WX3HKKY2*czE3NTExMzk1MTAkbzQkZzEkdDE3NTExMzk1NDQkajI2JGwwJGgw', 'title': 'LangSmith Pricing', 'description': \"LangSmith pricing for teams of any size. Choose the plan that suits your needs, whether you're an individual developer or enterprise. Debug, test, and monitor your LLM apps confidently.\", 'language': 'en'}, page_content='Higher rate limits\\n\\nEmail supportEnterpriseDesigned for teams with more security, deployment, and support needsCustomGet a demoKey features:\\n\\nAll features in Plus tier\\n\\nCustom Single Sign On (SSO)\\n\\nSLA\\n\\nSelf-hosted deployment options\\n\\nCustom rate limits\\n\\nTeam trainings\\n\\nShared Slack channel\\n\\nArchitectural guidance'),\n",
       " Document(metadata={'source': 'https://www.langchain.com/pricing-langsmith?_gl=1*91275m*_gcl_au*NDYzNjI2NTkyLjE3NTExMzk1MTA.*_ga*NzM2NjExNTExLjE3NTEwNTg2NzI.*_ga_47WX3HKKY2*czE3NTExMzk1MTAkbzQkZzEkdDE3NTExMzk1NDQkajI2JGwwJGgw', 'title': 'LangSmith Pricing', 'description': \"LangSmith pricing for teams of any size. Choose the plan that suits your needs, whether you're an individual developer or enterprise. Debug, test, and monitor your LLM apps confidently.\", 'language': 'en'}, page_content='Dedicated customer success managerLangSmith for Startups and Education.  Seed stage startups and educational institutions, reach out for starter pricing and get shipping today.Reach out to learn about startup pricing for a period of time.Startups\\n\\n\\nEducation\\n\\n\\nEnquire about startup pricing\\n\\n\\nLangSmith for Startups and EducationSeed stage startups and educational institutions, reach out for starter pricing and get shipping today.Startups\\n\\n\\nEducation'),\n",
       " Document(metadata={'source': 'https://www.langchain.com/pricing-langsmith?_gl=1*91275m*_gcl_au*NDYzNjI2NTkyLjE3NTExMzk1MTA.*_ga*NzM2NjExNTExLjE3NTEwNTg2NzI.*_ga_47WX3HKKY2*czE3NTExMzk1MTAkbzQkZzEkdDE3NTExMzk1NDQkajI2JGwwJGgw', 'title': 'LangSmith Pricing', 'description': \"LangSmith pricing for teams of any size. Choose the plan that suits your needs, whether you're an individual developer or enterprise. Debug, test, and monitor your LLM apps confidently.\", 'language': 'en'}, page_content='Education\\n\\n\\nCompare plansDeveloperPlusEnterpriseFeaturesDebugging Traces\\n\\n\\n\\n\\n\\n\\n\\n\\nDataset Collection\\n\\n\\n\\n\\n\\n\\n\\n\\nHuman Labeling\\n\\n\\n\\n\\n\\n\\n\\n\\nTesting and Evaluation\\n\\n\\n\\n\\n\\n\\n\\n\\nPrompt Management\\n\\n\\n\\n\\n\\n\\n\\n\\nMonitoring\\n\\n\\n\\n\\n\\n\\n\\n\\nBulk Data Export'),\n",
       " Document(metadata={'source': 'https://www.langchain.com/pricing-langsmith?_gl=1*91275m*_gcl_au*NDYzNjI2NTkyLjE3NTExMzk1MTA.*_ga*NzM2NjExNTExLjE3NTEwNTg2NzI.*_ga_47WX3HKKY2*czE3NTExMzk1MTAkbzQkZzEkdDE3NTExMzk1NDQkajI2JGwwJGgw', 'title': 'LangSmith Pricing', 'description': \"LangSmith pricing for teams of any size. Choose the plan that suits your needs, whether you're an individual developer or enterprise. Debug, test, and monitor your LLM apps confidently.\", 'language': 'en'}, page_content=\"TeamDeveloper SeatsMaximum 1 seatFreeMaximum 10 seats$39\\xa0per\\xa0seat/monthCustom pricingWorkspacesSingle, default Workspace under Personal OrganizationUp to 3 Workspaces per OrganizationUp to 10 Workspaces per Organization (contact for more)UsageTraces Prices for traces vary depending on the data retention period you've set.\"),\n",
       " Document(metadata={'source': 'https://www.langchain.com/pricing-langsmith?_gl=1*91275m*_gcl_au*NDYzNjI2NTkyLjE3NTExMzk1MTA.*_ga*NzM2NjExNTExLjE3NTEwNTg2NzI.*_ga_47WX3HKKY2*czE3NTExMzk1MTAkbzQkZzEkdDE3NTExMzk1NDQkajI2JGwwJGgw', 'title': 'LangSmith Pricing', 'description': \"LangSmith pricing for teams of any size. Choose the plan that suits your needs, whether you're an individual developer or enterprise. Debug, test, and monitor your LLM apps confidently.\", 'language': 'en'}, page_content='First 5k base traces and extended upgrades per month for freePay as you go thereafter:\\xa0\\u2028$0.50 per 1k base traces (14-day retention)Additional $4.50 per 1k extended traces (400-day retention)First 10k base traces and extended upgrades per month for freePay as you go thereafter:\\xa0\\u2028$0.50 per 1k base traces (14-day retention)Additional $4.50 per 1k extended traces (400-day retention)CustomMax Ingested Events / Hour50k / 250k (with payment method on file) 500kCustomTotal Trace Size Stored / Hour500MB'),\n",
       " Document(metadata={'source': 'https://www.langchain.com/pricing-langsmith?_gl=1*91275m*_gcl_au*NDYzNjI2NTkyLjE3NTExMzk1MTA.*_ga*NzM2NjExNTExLjE3NTEwNTg2NzI.*_ga_47WX3HKKY2*czE3NTExMzk1MTAkbzQkZzEkdDE3NTExMzk1NDQkajI2JGwwJGgw', 'title': 'LangSmith Pricing', 'description': \"LangSmith pricing for teams of any size. Choose the plan that suits your needs, whether you're an individual developer or enterprise. Debug, test, and monitor your LLM apps confidently.\", 'language': 'en'}, page_content='Stored / Hour500MB / 2.5GB (with payment method on file)5GBCustomSecurity ControlsSSO'),\n",
       " Document(metadata={'source': 'https://www.langchain.com/pricing-langsmith?_gl=1*91275m*_gcl_au*NDYzNjI2NTkyLjE3NTExMzk1MTA.*_ga*NzM2NjExNTExLjE3NTEwNTg2NzI.*_ga_47WX3HKKY2*czE3NTExMzk1MTAkbzQkZzEkdDE3NTExMzk1NDQkajI2JGwwJGgw', 'title': 'LangSmith Pricing', 'description': \"LangSmith pricing for teams of any size. Choose the plan that suits your needs, whether you're an individual developer or enterprise. Debug, test, and monitor your LLM apps confidently.\", 'language': 'en'}, page_content=\"Google, GitHubCustom SSORole Based Access Control\\n\\n\\n\\n\\n\\n\\nOrganization Roles (User and Admin)\\n\\n\\n\\n\\n\\n\\n\\nDeploymentHosted in US or EUHosted in US or EUAdd-on for self-hosted deployment in customer's VPCSupportEmail SupportCommunity Discord\\n\\n\\n\\n\\n\\nShared Slack Channel Support\\n\\n\\n\\n\\n\\n\\nTeam Trainings\\n\\n\\n\\n\\n\\n\\nApplication Architectural Guidance\\n\\n\\n\\n\\n\\n\\nDedicated Customer Success Manager\\n\\n\\n\\n\\n\\n\\nSLA\\n\\n\\n\\n\\n\\n\\nProcurementBillingMonthly, self-serveMonthly, self-serveAnnual invoiceCustom Terms and Data Privacy Agreement\"),\n",
       " Document(metadata={'source': 'https://www.langchain.com/pricing-langsmith?_gl=1*91275m*_gcl_au*NDYzNjI2NTkyLjE3NTExMzk1MTA.*_ga*NzM2NjExNTExLjE3NTEwNTg2NzI.*_ga_47WX3HKKY2*czE3NTExMzk1MTAkbzQkZzEkdDE3NTExMzk1NDQkajI2JGwwJGgw', 'title': 'LangSmith Pricing', 'description': \"LangSmith pricing for teams of any size. Choose the plan that suits your needs, whether you're an individual developer or enterprise. Debug, test, and monitor your LLM apps confidently.\", 'language': 'en'}, page_content='Infosec Review'),\n",
       " Document(metadata={'source': 'https://www.langchain.com/pricing-langsmith?_gl=1*91275m*_gcl_au*NDYzNjI2NTkyLjE3NTExMzk1MTA.*_ga*NzM2NjExNTExLjE3NTEwNTg2NzI.*_ga_47WX3HKKY2*czE3NTExMzk1MTAkbzQkZzEkdDE3NTExMzk1NDQkajI2JGwwJGgw', 'title': 'LangSmith Pricing', 'description': \"LangSmith pricing for teams of any size. Choose the plan that suits your needs, whether you're an individual developer or enterprise. Debug, test, and monitor your LLM apps confidently.\", 'language': 'en'}, page_content='Hear from our happy customersLangChain, LangGraph, and LangSmith help teams of all sizes, across all industries - from ambitious startups to established enterprises.“By combining the benefits of LangSmith and standing on the shoulders of a gigantic open-source community, we’re able to identify the right approaches of using LLMs in an enterprise-setting faster.”Yusuke KajiGeneral Manager of AI“Working with LangChain and LangSmith on the Elastic AI Assistant had a significant positive impact on'),\n",
       " Document(metadata={'source': 'https://www.langchain.com/pricing-langsmith?_gl=1*91275m*_gcl_au*NDYzNjI2NTkyLjE3NTExMzk1MTA.*_ga*NzM2NjExNTExLjE3NTEwNTg2NzI.*_ga_47WX3HKKY2*czE3NTExMzk1MTAkbzQkZzEkdDE3NTExMzk1NDQkajI2JGwwJGgw', 'title': 'LangSmith Pricing', 'description': \"LangSmith pricing for teams of any size. Choose the plan that suits your needs, whether you're an individual developer or enterprise. Debug, test, and monitor your LLM apps confidently.\", 'language': 'en'}, page_content='positive impact on the overall pace and quality of the development and shipping experience. We couldn’t have achieved \\xa0the product experience delivered to our customers without LangChain, and we couldn’t have done it at the same pace without LangSmith.”James SpiteriDirector of Security Products“As soon as we heard about LangSmith, we moved our entire development stack onto it. We could have built evaluation, testing and monitoring tools in house, but with LangSmith it took us 10x less time to'),\n",
       " Document(metadata={'source': 'https://www.langchain.com/pricing-langsmith?_gl=1*91275m*_gcl_au*NDYzNjI2NTkyLjE3NTExMzk1MTA.*_ga*NzM2NjExNTExLjE3NTEwNTg2NzI.*_ga_47WX3HKKY2*czE3NTExMzk1MTAkbzQkZzEkdDE3NTExMzk1NDQkajI2JGwwJGgw', 'title': 'LangSmith Pricing', 'description': \"LangSmith pricing for teams of any size. Choose the plan that suits your needs, whether you're an individual developer or enterprise. Debug, test, and monitor your LLM apps confidently.\", 'language': 'en'}, page_content='us 10x less time to get a 1000x better tool.”Jose PeñaSenior Manager'),\n",
       " Document(metadata={'source': 'https://www.langchain.com/pricing-langsmith?_gl=1*91275m*_gcl_au*NDYzNjI2NTkyLjE3NTExMzk1MTA.*_ga*NzM2NjExNTExLjE3NTEwNTg2NzI.*_ga_47WX3HKKY2*czE3NTExMzk1MTAkbzQkZzEkdDE3NTExMzk1NDQkajI2JGwwJGgw', 'title': 'LangSmith Pricing', 'description': \"LangSmith pricing for teams of any size. Choose the plan that suits your needs, whether you're an individual developer or enterprise. Debug, test, and monitor your LLM apps confidently.\", 'language': 'en'}, page_content='Have a question about our plans?Which plan is right for me?'),\n",
       " Document(metadata={'source': 'https://www.langchain.com/pricing-langsmith?_gl=1*91275m*_gcl_au*NDYzNjI2NTkyLjE3NTExMzk1MTA.*_ga*NzM2NjExNTExLjE3NTEwNTg2NzI.*_ga_47WX3HKKY2*czE3NTExMzk1MTAkbzQkZzEkdDE3NTExMzk1NDQkajI2JGwwJGgw', 'title': 'LangSmith Pricing', 'description': \"LangSmith pricing for teams of any size. Choose the plan that suits your needs, whether you're an individual developer or enterprise. Debug, test, and monitor your LLM apps confidently.\", 'language': 'en'}, page_content='Our Developer plan is a great choice for personal projects. You will have 1 free seat with access to LangSmith (5k base traces/month included).\\xa0\\xa0\\u200dThe Plus plan is for teams that want to self-serve with moderate usage and collaboration needs. You can purchase up to 10 seats with access to LangSmith (10k base traces/month included). You will be able to ship agents with our managed LangGraph Platform Cloud service, with 1 free dev-sized deployment included.\\xa0\\u200dThe Enterprise plan is for teams that'),\n",
       " Document(metadata={'source': 'https://www.langchain.com/pricing-langsmith?_gl=1*91275m*_gcl_au*NDYzNjI2NTkyLjE3NTExMzk1MTA.*_ga*NzM2NjExNTExLjE3NTEwNTg2NzI.*_ga_47WX3HKKY2*czE3NTExMzk1MTAkbzQkZzEkdDE3NTExMzk1NDQkajI2JGwwJGgw', 'title': 'LangSmith Pricing', 'description': \"LangSmith pricing for teams of any size. Choose the plan that suits your needs, whether you're an individual developer or enterprise. Debug, test, and monitor your LLM apps confidently.\", 'language': 'en'}, page_content='is for teams that need more advanced administration, security, support, or deployment options. Contact our sales team to learn more.Do you offer a plan for startups?'),\n",
       " Document(metadata={'source': 'https://www.langchain.com/pricing-langsmith?_gl=1*91275m*_gcl_au*NDYzNjI2NTkyLjE3NTExMzk1MTA.*_ga*NzM2NjExNTExLjE3NTEwNTg2NzI.*_ga_47WX3HKKY2*czE3NTExMzk1MTAkbzQkZzEkdDE3NTExMzk1NDQkajI2JGwwJGgw', 'title': 'LangSmith Pricing', 'description': \"LangSmith pricing for teams of any size. Choose the plan that suits your needs, whether you're an individual developer or enterprise. Debug, test, and monitor your LLM apps confidently.\", 'language': 'en'}, page_content='Yes! We offer a Startup Plan for LangSmith, designed for early-stage companies building agentic applications. You’ll get discounted rates and generous free trace allotments to build with confidence from day one.\\u200d\\u200dApply here to get started with startup pricing. Customers can stay on the Startup Plan for 2 years before graduating to the Plus Plan.What is a trace? Can it contain multiple events?'),\n",
       " Document(metadata={'source': 'https://www.langchain.com/pricing-langsmith?_gl=1*91275m*_gcl_au*NDYzNjI2NTkyLjE3NTExMzk1MTA.*_ga*NzM2NjExNTExLjE3NTEwNTg2NzI.*_ga_47WX3HKKY2*czE3NTExMzk1MTAkbzQkZzEkdDE3NTExMzk1NDQkajI2JGwwJGgw', 'title': 'LangSmith Pricing', 'description': \"LangSmith pricing for teams of any size. Choose the plan that suits your needs, whether you're an individual developer or enterprise. Debug, test, and monitor your LLM apps confidently.\", 'language': 'en'}, page_content=\"A trace represents a single execution of your application—whether it’s an agent, evaluator, or playground session. It can include many individual steps, such as LLM calls and other tracked events. Here's an example of a single trace.What is the difference between a base trace and an extended trace?\"),\n",
       " Document(metadata={'source': 'https://www.langchain.com/pricing-langsmith?_gl=1*91275m*_gcl_au*NDYzNjI2NTkyLjE3NTExMzk1MTA.*_ga*NzM2NjExNTExLjE3NTEwNTg2NzI.*_ga_47WX3HKKY2*czE3NTExMzk1MTAkbzQkZzEkdDE3NTExMzk1NDQkajI2JGwwJGgw', 'title': 'LangSmith Pricing', 'description': \"LangSmith pricing for teams of any size. Choose the plan that suits your needs, whether you're an individual developer or enterprise. Debug, test, and monitor your LLM apps confidently.\", 'language': 'en'}, page_content='Base traces have a shorter retention period of 14 days and cost $0.50 per 1k traces. Extended traces have a longer retention period of 400 days and cost $5.00 per 1k traces. You can \"upgrade\" base traces to extended traces at $4.50 per 1k traces.Why might I want to upgrade a base trace to an extended trace?'),\n",
       " Document(metadata={'source': 'https://www.langchain.com/pricing-langsmith?_gl=1*91275m*_gcl_au*NDYzNjI2NTkyLjE3NTExMzk1MTA.*_ga*NzM2NjExNTExLjE3NTEwNTg2NzI.*_ga_47WX3HKKY2*czE3NTExMzk1MTAkbzQkZzEkdDE3NTExMzk1NDQkajI2JGwwJGgw', 'title': 'LangSmith Pricing', 'description': \"LangSmith pricing for teams of any size. Choose the plan that suits your needs, whether you're an individual developer or enterprise. Debug, test, and monitor your LLM apps confidently.\", 'language': 'en'}, page_content='Base traces are short-lived (14-day retention) and ideal for quick debugging or ad-hoc analysis. They’re priced for volume and short-term utility.\\u200dExtended traces, on the other hand, are retained for 400 days and often include valuable feedback—whether from users, evaluators, or human labelers. This feedback makes them essential for ongoing improvement and model tuning (higher utility), which comes with a higher price point.\\u200dLangSmith lets you choose the right retention for each trace, helping'),\n",
       " Document(metadata={'source': 'https://www.langchain.com/pricing-langsmith?_gl=1*91275m*_gcl_au*NDYzNjI2NTkyLjE3NTExMzk1MTA.*_ga*NzM2NjExNTExLjE3NTEwNTg2NzI.*_ga_47WX3HKKY2*czE3NTExMzk1MTAkbzQkZzEkdDE3NTExMzk1NDQkajI2JGwwJGgw', 'title': 'LangSmith Pricing', 'description': \"LangSmith pricing for teams of any size. Choose the plan that suits your needs, whether you're an individual developer or enterprise. Debug, test, and monitor your LLM apps confidently.\", 'language': 'en'}, page_content='each trace, helping you balance cost and value. I’ve hit my usage limits. What can I do?'),\n",
       " Document(metadata={'source': 'https://www.langchain.com/pricing-langsmith?_gl=1*91275m*_gcl_au*NDYzNjI2NTkyLjE3NTExMzk1MTA.*_ga*NzM2NjExNTExLjE3NTEwNTg2NzI.*_ga_47WX3HKKY2*czE3NTExMzk1MTAkbzQkZzEkdDE3NTExMzk1NDQkajI2JGwwJGgw', 'title': 'LangSmith Pricing', 'description': \"LangSmith pricing for teams of any size. Choose the plan that suits your needs, whether you're an individual developer or enterprise. Debug, test, and monitor your LLM apps confidently.\", 'language': 'en'}, page_content='If you’ve consumed the monthly allotment of free traces in your account, you can purchase credits via credit card on the Developer and Plus plans to continue sending traces to LangSmith. If you’ve hit the performance usage limits on your tier, you can upgrade to a higher plan to get better limits, or reach out to support@langchain.dev with questions.Can I pay by ACH?'),\n",
       " Document(metadata={'source': 'https://www.langchain.com/pricing-langsmith?_gl=1*91275m*_gcl_au*NDYzNjI2NTkyLjE3NTExMzk1MTA.*_ga*NzM2NjExNTExLjE3NTEwNTg2NzI.*_ga_47WX3HKKY2*czE3NTExMzk1MTAkbzQkZzEkdDE3NTExMzk1NDQkajI2JGwwJGgw', 'title': 'LangSmith Pricing', 'description': \"LangSmith pricing for teams of any size. Choose the plan that suits your needs, whether you're an individual developer or enterprise. Debug, test, and monitor your LLM apps confidently.\", 'language': 'en'}, page_content='Yes, we offer ACH payment on the Enterprise plan, and we’re happy to work with your procurement team to onboard as a new vendor.How will billing work?'),\n",
       " Document(metadata={'source': 'https://www.langchain.com/pricing-langsmith?_gl=1*91275m*_gcl_au*NDYzNjI2NTkyLjE3NTExMzk1MTA.*_ga*NzM2NjExNTExLjE3NTEwNTg2NzI.*_ga_47WX3HKKY2*czE3NTExMzk1MTAkbzQkZzEkdDE3NTExMzk1NDQkajI2JGwwJGgw', 'title': 'LangSmith Pricing', 'description': \"LangSmith pricing for teams of any size. Choose the plan that suits your needs, whether you're an individual developer or enterprise. Debug, test, and monitor your LLM apps confidently.\", 'language': 'en'}, page_content='Seats are billed monthly on the first of the month or pro-rated if additional seats are purchased in the middle of the month. Churned seats mid month won’t get credited. You can purchase LangSmith credits for your tracing usage. As long as you have credits in your account, we’ll service your traces and deduct from your credit balance. You’ll be able to set alerts and auto-top ups on credits if you choose.\\u200dEnterprise plan customers are billed annually by invoice.What can I expect from support?'),\n",
       " Document(metadata={'source': 'https://www.langchain.com/pricing-langsmith?_gl=1*91275m*_gcl_au*NDYzNjI2NTkyLjE3NTExMzk1MTA.*_ga*NzM2NjExNTExLjE3NTEwNTg2NzI.*_ga_47WX3HKKY2*czE3NTExMzk1MTAkbzQkZzEkdDE3NTExMzk1NDQkajI2JGwwJGgw', 'title': 'LangSmith Pricing', 'description': \"LangSmith pricing for teams of any size. Choose the plan that suits your needs, whether you're an individual developer or enterprise. Debug, test, and monitor your LLM apps confidently.\", 'language': 'en'}, page_content='On the Plus plan, you receive preferential, email support at support@langchain.dev. On the Enterprise plan, you’ll get white-glove support with a Slack channel, a dedicated customer success engineer, and monthly check-ins to go over LangSmith and LangChain questions. We can help with anything from debugging, agent and RAG techniques, evaluation approaches, and cognitive architecture reviews. If you purchase the add-on to run LangSmith in your environment, we’ll also support deployments and new'),\n",
       " Document(metadata={'source': 'https://www.langchain.com/pricing-langsmith?_gl=1*91275m*_gcl_au*NDYzNjI2NTkyLjE3NTExMzk1MTA.*_ga*NzM2NjExNTExLjE3NTEwNTg2NzI.*_ga_47WX3HKKY2*czE3NTExMzk1MTAkbzQkZzEkdDE3NTExMzk1NDQkajI2JGwwJGgw', 'title': 'LangSmith Pricing', 'description': \"LangSmith pricing for teams of any size. Choose the plan that suits your needs, whether you're an individual developer or enterprise. Debug, test, and monitor your LLM apps confidently.\", 'language': 'en'}, page_content='deployments and new releases with our infra engineering team on-call.Where is my data stored?'),\n",
       " Document(metadata={'source': 'https://www.langchain.com/pricing-langsmith?_gl=1*91275m*_gcl_au*NDYzNjI2NTkyLjE3NTExMzk1MTA.*_ga*NzM2NjExNTExLjE3NTEwNTg2NzI.*_ga_47WX3HKKY2*czE3NTExMzk1MTAkbzQkZzEkdDE3NTExMzk1NDQkajI2JGwwJGgw', 'title': 'LangSmith Pricing', 'description': \"LangSmith pricing for teams of any size. Choose the plan that suits your needs, whether you're an individual developer or enterprise. Debug, test, and monitor your LLM apps confidently.\", 'language': 'en'}, page_content='When using LangSmith hosted at smith.langchain.com, data is stored in GCP us-central-1. If you’re on the Enterprise plan, we can deliver LangSmith to run on your kubernetes cluster in AWS, GCP, or Azure so that data never leaves your environment. For more information, check out our documentation.Which security frameworks is LangSmith compliant with?'),\n",
       " Document(metadata={'source': 'https://www.langchain.com/pricing-langsmith?_gl=1*91275m*_gcl_au*NDYzNjI2NTkyLjE3NTExMzk1MTA.*_ga*NzM2NjExNTExLjE3NTEwNTg2NzI.*_ga_47WX3HKKY2*czE3NTExMzk1MTAkbzQkZzEkdDE3NTExMzk1NDQkajI2JGwwJGgw', 'title': 'LangSmith Pricing', 'description': \"LangSmith pricing for teams of any size. Choose the plan that suits your needs, whether you're an individual developer or enterprise. Debug, test, and monitor your LLM apps confidently.\", 'language': 'en'}, page_content=\"We are SOC 2 Type II, HIPAA, and GDPR compliant. We're able to establish a BAA with customers on our Enterprise plan. You can request more information about our security policies and posture at trust.langchain.com.Will you train on the data that I send LangSmith?\"),\n",
       " Document(metadata={'source': 'https://www.langchain.com/pricing-langsmith?_gl=1*91275m*_gcl_au*NDYzNjI2NTkyLjE3NTExMzk1MTA.*_ga*NzM2NjExNTExLjE3NTEwNTg2NzI.*_ga_47WX3HKKY2*czE3NTExMzk1MTAkbzQkZzEkdDE3NTExMzk1NDQkajI2JGwwJGgw', 'title': 'LangSmith Pricing', 'description': \"LangSmith pricing for teams of any size. Choose the plan that suits your needs, whether you're an individual developer or enterprise. Debug, test, and monitor your LLM apps confidently.\", 'language': 'en'}, page_content='We will not train on your data, and you own all rights to your data. See LangSmith Terms of Service for more information.Ready to start shipping \\u2028reliable agents faster?Get started with tools from the LangChain product suite for every step of the agent development lifecycle.Get a demoSign up for freeProductsLangChainLangSmithLangGraphAgentsEvaluationRetrievalResourcesPython DocsJS/TS DocsGitHubIntegrationsChangelogCommunityLangSmith Trust'),\n",
       " Document(metadata={'source': 'https://www.langchain.com/pricing-langsmith?_gl=1*91275m*_gcl_au*NDYzNjI2NTkyLjE3NTExMzk1MTA.*_ga*NzM2NjExNTExLjE3NTEwNTg2NzI.*_ga_47WX3HKKY2*czE3NTExMzk1MTAkbzQkZzEkdDE3NTExMzk1NDQkajI2JGwwJGgw', 'title': 'LangSmith Pricing', 'description': \"LangSmith pricing for teams of any size. Choose the plan that suits your needs, whether you're an individual developer or enterprise. Debug, test, and monitor your LLM apps confidently.\", 'language': 'en'}, page_content='Trust PortalCompanyAboutCareersBlogTwitterLinkedInYouTubeMarketing AssetsSign up for our newsletter to stay up to dateThank you! Your submission has been received!Oops! Something went wrong while submitting the form.All systems operationalPrivacy PolicyTerms of Service')]"
      ]
     },
     "execution_count": 21,
     "metadata": {},
     "output_type": "execute_result"
    }
   ],
   "source": [
    "documents"
   ]
  },
  {
   "cell_type": "code",
   "execution_count": 22,
   "id": "507e6292",
   "metadata": {},
   "outputs": [],
   "source": [
    "from langchain_openai import OpenAIEmbeddings\n",
    "embeddings=OpenAIEmbeddings()"
   ]
  },
  {
   "cell_type": "code",
   "execution_count": 23,
   "id": "f06d5dc6",
   "metadata": {},
   "outputs": [
    {
     "data": {
      "text/plain": [
       "<langchain_community.vectorstores.faiss.FAISS at 0x1165c20d0>"
      ]
     },
     "execution_count": 23,
     "metadata": {},
     "output_type": "execute_result"
    }
   ],
   "source": [
    "from langchain_community.vectorstores import FAISS\n",
    "vectorstoredb=FAISS.from_documents(documents,embeddings)\n",
    "vectorstoredb"
   ]
  },
  {
   "cell_type": "code",
   "execution_count": null,
   "id": "75b2e499",
   "metadata": {},
   "outputs": [
    {
     "data": {
      "text/plain": [
       "'LangSmithLangGraph PlatformGet a demoSign upLangSmith plans for teams of\\xa0any\\xa0sizeLooking for LangGraph Platform pricing?StartupsDesigned for early stage startups building AI applicationsReach out for starter pricing and get shipping todayReach outWhat to expect:We want all early stage companies to build with LangSmith. LangSmith for Startups offers discounted prices and a generous free, monthly trace allotment, so you can have the right tooling in place as you grow your'"
      ]
     },
     "execution_count": 28,
     "metadata": {},
     "output_type": "execute_result"
    }
   ],
   "source": [
    "## Query From a vector db\n",
    "query=\"LangSmith plans for teams of any size\"\n",
    "result=vectorstoredb.similarity_search(query)\n",
    "result[0].page_content"
   ]
  },
  {
   "cell_type": "code",
   "execution_count": 30,
   "id": "b8a78316",
   "metadata": {},
   "outputs": [],
   "source": [
    "#till now we imported data ,divided into chunks,converted into vectors ,then stored in vectordb \n",
    "# That lets us find similar chunks for a given query — but to get meaningful answers, we need to pass those chunks to a language model. That’s where RAG (Retrieval-Augmented Generation) comes in."
   ]
  },
  {
   "cell_type": "code",
   "execution_count": 31,
   "id": "53868897",
   "metadata": {},
   "outputs": [],
   "source": [
    "from langchain_openai import ChatOpenAI\n",
    "llm=ChatOpenAI(model=\"gpt-4o\")"
   ]
  },
  {
   "cell_type": "code",
   "execution_count": null,
   "id": "e507e5d4",
   "metadata": {},
   "outputs": [
    {
     "data": {
      "text/plain": [
       "RunnableBinding(bound=RunnableBinding(bound=RunnableAssign(mapper={\n",
       "  context: RunnableLambda(format_docs)\n",
       "}), kwargs={}, config={'run_name': 'format_inputs'}, config_factories=[])\n",
       "| ChatPromptTemplate(input_variables=['context'], input_types={}, partial_variables={}, messages=[HumanMessagePromptTemplate(prompt=PromptTemplate(input_variables=['context'], input_types={}, partial_variables={}, template='\\nAnswer the following question based only on the provided context:\\n<context>\\n{context}\\n</context>\\n\\n\\n'), additional_kwargs={})])\n",
       "| ChatOpenAI(client=<openai.resources.chat.completions.completions.Completions object at 0x132759310>, async_client=<openai.resources.chat.completions.completions.AsyncCompletions object at 0x1327591d0>, root_client=<openai.OpenAI object at 0x1325bad70>, root_async_client=<openai.AsyncOpenAI object at 0x1325baea0>, model_name='gpt-4o', model_kwargs={}, openai_api_key=SecretStr('**********'))\n",
       "| StrOutputParser(), kwargs={}, config={'run_name': 'stuff_documents_chain'}, config_factories=[])"
      ]
     },
     "execution_count": 33,
     "metadata": {},
     "output_type": "execute_result"
    }
   ],
   "source": [
    "#Retrival Chain,Documents Chain \n",
    "#A document chain in LangChain is any chain designed to:Take a list of documents and process them in a way that’s useful for an LLM.\n",
    "\n",
    "from langchain.chains.combine_documents import create_stuff_documents_chain\n",
    "from langchain_core.prompts import ChatPromptTemplate\n",
    "\n",
    "prompt=ChatPromptTemplate.from_template(\n",
    "    \"\"\"\n",
    "Answer the following question based only on the provided context:\n",
    "<context>\n",
    "{context}\n",
    "</context>\n",
    "\n",
    "\n",
    "\"\"\"\n",
    ")\n",
    "\n",
    "document_chain=create_stuff_documents_chain(llm,prompt)\n",
    "document_chain\n"
   ]
  },
  {
   "cell_type": "code",
   "execution_count": 35,
   "id": "ad23de35",
   "metadata": {},
   "outputs": [
    {
     "data": {
      "text/plain": [
       "\"The provided context does not offer specific information about LangGraph Platform pricing. It simply mentions that LangSmith plans for teams of any size but doesn't provide details about the pricing of the LangGraph Platform.\""
      ]
     },
     "execution_count": 35,
     "metadata": {},
     "output_type": "execute_result"
    }
   ],
   "source": [
    "from langchain_core.documents import Document\n",
    "document_chain.invoke({\n",
    "    \"input\":\"LangSmith plans for teams of any size\",\n",
    "    \"context\":[Document(page_content=\"LangSmith plans for teams of any size Looking for LangGraph Platform pricing?\")]\n",
    "})"
   ]
  },
  {
   "cell_type": "markdown",
   "id": "636c529d",
   "metadata": {},
   "source": [
    "However, we want the documents to first come from the retriever we just set up. That way, we can use the retriever to dynamically select the most relevant documents and pass those in for a given question."
   ]
  },
  {
   "cell_type": "code",
   "execution_count": null,
   "id": "c57b3621",
   "metadata": {},
   "outputs": [],
   "source": [
    "### input--->retriever--->vectorstoredb\n",
    "retriever=vectorstoredb.as_retriever()\n",
    "\n"
   ]
  },
  {
   "cell_type": "code",
   "execution_count": 39,
   "id": "111294e7",
   "metadata": {},
   "outputs": [],
   "source": [
    "from langchain.chains import create_retrieval_chain\n",
    "retrieval_chain=create_retrieval_chain(retriever,document_chain)"
   ]
  },
  {
   "cell_type": "code",
   "execution_count": 40,
   "id": "8798e1f8",
   "metadata": {},
   "outputs": [
    {
     "data": {
      "text/plain": [
       "RunnableBinding(bound=RunnableAssign(mapper={\n",
       "  context: RunnableBinding(bound=RunnableLambda(lambda x: x['input'])\n",
       "           | VectorStoreRetriever(tags=['FAISS', 'OpenAIEmbeddings'], vectorstore=<langchain_community.vectorstores.faiss.FAISS object at 0x1165c20d0>, search_kwargs={}), kwargs={}, config={'run_name': 'retrieve_documents'}, config_factories=[])\n",
       "})\n",
       "| RunnableAssign(mapper={\n",
       "    answer: RunnableBinding(bound=RunnableBinding(bound=RunnableAssign(mapper={\n",
       "              context: RunnableLambda(format_docs)\n",
       "            }), kwargs={}, config={'run_name': 'format_inputs'}, config_factories=[])\n",
       "            | ChatPromptTemplate(input_variables=['context'], input_types={}, partial_variables={}, messages=[HumanMessagePromptTemplate(prompt=PromptTemplate(input_variables=['context'], input_types={}, partial_variables={}, template='\\nAnswer the following question based only on the provided context:\\n<context>\\n{context}\\n</context>\\n\\n\\n'), additional_kwargs={})])\n",
       "            | ChatOpenAI(client=<openai.resources.chat.completions.completions.Completions object at 0x132759310>, async_client=<openai.resources.chat.completions.completions.AsyncCompletions object at 0x1327591d0>, root_client=<openai.OpenAI object at 0x1325bad70>, root_async_client=<openai.AsyncOpenAI object at 0x1325baea0>, model_name='gpt-4o', model_kwargs={}, openai_api_key=SecretStr('**********'))\n",
       "            | StrOutputParser(), kwargs={}, config={'run_name': 'stuff_documents_chain'}, config_factories=[])\n",
       "  }), kwargs={}, config={'run_name': 'retrieval_chain'}, config_factories=[])"
      ]
     },
     "execution_count": 40,
     "metadata": {},
     "output_type": "execute_result"
    }
   ],
   "source": [
    "retrieval_chain"
   ]
  },
  {
   "cell_type": "code",
   "execution_count": 43,
   "id": "e8bf94a9",
   "metadata": {},
   "outputs": [
    {
     "data": {
      "text/plain": [
       "'The LangSmith platform offers various plans tailored to different needs. For startups, there is the \"Startup Plan\" which provides discounted pricing and generous free monthly trace allotments. This plan is designed to support early-stage companies in building AI applications, allowing them to establish the proper tooling as they grow. Startups can stay on this plan for up to 2 years before transitioning to the Plus Plan. Additionally, the Developer plan is targeted at personal projects with 1 free seat and 5k base traces per month included. The Plus plan allows for up to 10 seats with 10k base traces per month, and the Enterprise plan caters to teams with potentially larger-scale needs.'"
      ]
     },
     "execution_count": 43,
     "metadata": {},
     "output_type": "execute_result"
    }
   ],
   "source": [
    "#GET THE RESPONSE FROM THE LLM\n",
    "response=retrieval_chain.invoke({\"input\":\"LangSmith plans for teams of any size\"})\n",
    "response['answer']"
   ]
  },
  {
   "cell_type": "code",
   "execution_count": 44,
   "id": "18748bea",
   "metadata": {},
   "outputs": [
    {
     "data": {
      "text/plain": [
       "[Document(id='8d6569b7-10ac-4bbe-9812-e3870196ec5c', metadata={'source': 'https://www.langchain.com/pricing-langsmith?_gl=1*91275m*_gcl_au*NDYzNjI2NTkyLjE3NTExMzk1MTA.*_ga*NzM2NjExNTExLjE3NTEwNTg2NzI.*_ga_47WX3HKKY2*czE3NTExMzk1MTAkbzQkZzEkdDE3NTExMzk1NDQkajI2JGwwJGgw', 'title': 'LangSmith Pricing', 'description': \"LangSmith pricing for teams of any size. Choose the plan that suits your needs, whether you're an individual developer or enterprise. Debug, test, and monitor your LLM apps confidently.\", 'language': 'en'}, page_content='LangSmithLangGraph PlatformGet a demoSign upLangSmith plans for teams of\\xa0any\\xa0sizeLooking for LangGraph Platform pricing?StartupsDesigned for early stage startups building AI applicationsReach out for starter pricing and get shipping todayReach outWhat to expect:We want all early stage companies to build with LangSmith. LangSmith for Startups offers discounted prices and a generous free, monthly trace allotment, so you can have the right tooling in place as you grow your'),\n",
       " Document(id='bdae8e06-db88-4fac-acf0-b947ec5b19f1', metadata={'source': 'https://www.langchain.com/pricing-langsmith?_gl=1*91275m*_gcl_au*NDYzNjI2NTkyLjE3NTExMzk1MTA.*_ga*NzM2NjExNTExLjE3NTEwNTg2NzI.*_ga_47WX3HKKY2*czE3NTExMzk1MTAkbzQkZzEkdDE3NTExMzk1NDQkajI2JGwwJGgw', 'title': 'LangSmith Pricing', 'description': \"LangSmith pricing for teams of any size. Choose the plan that suits your needs, whether you're an individual developer or enterprise. Debug, test, and monitor your LLM apps confidently.\", 'language': 'en'}, page_content='Our Developer plan is a great choice for personal projects. You will have 1 free seat with access to LangSmith (5k base traces/month included).\\xa0\\xa0\\u200dThe Plus plan is for teams that want to self-serve with moderate usage and collaboration needs. You can purchase up to 10 seats with access to LangSmith (10k base traces/month included). You will be able to ship agents with our managed LangGraph Platform Cloud service, with 1 free dev-sized deployment included.\\xa0\\u200dThe Enterprise plan is for teams that'),\n",
       " Document(id='cb2ac237-0388-4573-9a59-539e956c2cc6', metadata={'source': 'https://www.langchain.com/pricing-langsmith?_gl=1*91275m*_gcl_au*NDYzNjI2NTkyLjE3NTExMzk1MTA.*_ga*NzM2NjExNTExLjE3NTEwNTg2NzI.*_ga_47WX3HKKY2*czE3NTExMzk1MTAkbzQkZzEkdDE3NTExMzk1NDQkajI2JGwwJGgw', 'title': 'LangSmith Pricing', 'description': \"LangSmith pricing for teams of any size. Choose the plan that suits your needs, whether you're an individual developer or enterprise. Debug, test, and monitor your LLM apps confidently.\", 'language': 'en'}, page_content='Hear from our happy customersLangChain, LangGraph, and LangSmith help teams of all sizes, across all industries - from ambitious startups to established enterprises.“By combining the benefits of LangSmith and standing on the shoulders of a gigantic open-source community, we’re able to identify the right approaches of using LLMs in an enterprise-setting faster.”Yusuke KajiGeneral Manager of AI“Working with LangChain and LangSmith on the Elastic AI Assistant had a significant positive impact on'),\n",
       " Document(id='aa2516ae-44dd-4c19-9a96-fb4a13380557', metadata={'source': 'https://www.langchain.com/pricing-langsmith?_gl=1*91275m*_gcl_au*NDYzNjI2NTkyLjE3NTExMzk1MTA.*_ga*NzM2NjExNTExLjE3NTEwNTg2NzI.*_ga_47WX3HKKY2*czE3NTExMzk1MTAkbzQkZzEkdDE3NTExMzk1NDQkajI2JGwwJGgw', 'title': 'LangSmith Pricing', 'description': \"LangSmith pricing for teams of any size. Choose the plan that suits your needs, whether you're an individual developer or enterprise. Debug, test, and monitor your LLM apps confidently.\", 'language': 'en'}, page_content='Yes! We offer a Startup Plan for LangSmith, designed for early-stage companies building agentic applications. You’ll get discounted rates and generous free trace allotments to build with confidence from day one.\\u200d\\u200dApply here to get started with startup pricing. Customers can stay on the Startup Plan for 2 years before graduating to the Plus Plan.What is a trace? Can it contain multiple events?')]"
      ]
     },
     "execution_count": 44,
     "metadata": {},
     "output_type": "execute_result"
    }
   ],
   "source": [
    "response['context']"
   ]
  },
  {
   "cell_type": "code",
   "execution_count": null,
   "id": "e45b93ba",
   "metadata": {},
   "outputs": [],
   "source": []
  }
 ],
 "metadata": {
  "kernelspec": {
   "display_name": ".venv",
   "language": "python",
   "name": "python3"
  },
  "language_info": {
   "codemirror_mode": {
    "name": "ipython",
    "version": 3
   },
   "file_extension": ".py",
   "mimetype": "text/x-python",
   "name": "python",
   "nbconvert_exporter": "python",
   "pygments_lexer": "ipython3",
   "version": "3.13.5"
  }
 },
 "nbformat": 4,
 "nbformat_minor": 5
}
